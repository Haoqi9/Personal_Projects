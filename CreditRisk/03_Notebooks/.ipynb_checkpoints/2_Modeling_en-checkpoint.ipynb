{
 "cells": [
  {
   "cell_type": "markdown",
   "id": "0479d06c-af69-4bb0-a8ee-add55cc84570",
   "metadata": {},
   "source": [
    "# Table of Content"
   ]
  },
  {
   "cell_type": "markdown",
   "id": "c7d337de-d232-45e0-b128-85a49e491fd5",
   "metadata": {},
   "source": [
    "- [Preparing data for modeling](#prepare)\n",
    "- [Modeling](#model)\n",
    "- [Best Features Selection](#fea)\n",
    "- [Handling Class Imbalance](#imbalance)\n",
    "- [Hyperparameter Tunning](#tuning)\n",
    "- [Define Preprocessing Function](#function)\n",
    "- [Performance Evaluation](#eval)\n",
    "- [Save Final Model trained on Full data](#train)"
   ]
  },
  {
   "cell_type": "markdown",
   "id": "3bd95ff6-63cc-4c6d-ada4-68666738bf05",
   "metadata": {},
   "source": [
    "<a id=prepare><a />\n",
    "# Preparing data for modeling"
   ]
  },
  {
   "cell_type": "code",
   "execution_count": 1,
   "id": "48f737e7-2845-409b-a3e1-2026fc86ab64",
   "metadata": {
    "execution": {
     "iopub.execute_input": "2024-05-17T19:55:42.616256Z",
     "iopub.status.busy": "2024-05-17T19:55:42.615258Z",
     "iopub.status.idle": "2024-05-17T19:55:45.387479Z",
     "shell.execute_reply": "2024-05-17T19:55:45.387479Z",
     "shell.execute_reply.started": "2024-05-17T19:55:42.616256Z"
    }
   },
   "outputs": [],
   "source": [
    "import numpy as np\n",
    "import pandas as pd\n",
    "import matplotlib.pyplot as plt\n",
    "import seaborn as sns\n",
    "import os\n",
    "import warnings\n",
    "from Functions import my_funcs_prep as my\n",
    "\n",
    "warnings.filterwarnings('ignore')\n",
    "pd.set_option('display.max_columns', None)"
   ]
  },
  {
   "cell_type": "code",
   "execution_count": 2,
   "id": "03cb3536-2743-44c4-a417-2d90f35e4ef8",
   "metadata": {
    "execution": {
     "iopub.execute_input": "2024-05-17T19:55:45.408003Z",
     "iopub.status.busy": "2024-05-17T19:55:45.408003Z",
     "iopub.status.idle": "2024-05-17T19:55:46.210581Z",
     "shell.execute_reply": "2024-05-17T19:55:46.210581Z",
     "shell.execute_reply.started": "2024-05-17T19:55:45.408003Z"
    }
   },
   "outputs": [
    {
     "data": {
      "text/plain": [
       "((159802, 44), (159802, 68))"
      ]
     },
     "execution_count": 2,
     "metadata": {},
     "output_type": "execute_result"
    }
   ],
   "source": [
    "df_train = pd.read_csv('../02_Data/Working/df_train_prep.csv')\n",
    "empleo_features = pd.read_csv('../02_Data/Working/empleo_features.csv')\n",
    "\n",
    "df_train.shape, empleo_features.shape"
   ]
  },
  {
   "cell_type": "code",
   "execution_count": 3,
   "id": "1d072390-07af-4c57-997c-1558a43ccaa5",
   "metadata": {
    "execution": {
     "iopub.execute_input": "2024-05-17T19:55:46.214588Z",
     "iopub.status.busy": "2024-05-17T19:55:46.213588Z",
     "iopub.status.idle": "2024-05-17T19:55:46.246495Z",
     "shell.execute_reply": "2024-05-17T19:55:46.246495Z",
     "shell.execute_reply.started": "2024-05-17T19:55:46.214588Z"
    }
   },
   "outputs": [
    {
     "data": {
      "text/plain": [
       "(3, 40)"
      ]
     },
     "execution_count": 3,
     "metadata": {},
     "output_type": "execute_result"
    }
   ],
   "source": [
    "y_train = df_train.default\n",
    "X_train = df_train.drop(columns=['default'])\n",
    "\n",
    "new_vars = [\"antigüedad_empleo_num\", \"cancelaciones_12meses_bin\", \"derogatorios_bin\"]\n",
    "orig_vars = X_train.columns.difference(new_vars).tolist()\n",
    "\n",
    "len(new_vars), len(orig_vars)"
   ]
  },
  {
   "cell_type": "code",
   "execution_count": 4,
   "id": "0978abae-87cf-40a7-9fb6-520d5a44015f",
   "metadata": {
    "execution": {
     "iopub.execute_input": "2024-05-17T19:55:46.280523Z",
     "iopub.status.busy": "2024-05-17T19:55:46.280523Z",
     "iopub.status.idle": "2024-05-17T19:55:46.347848Z",
     "shell.execute_reply": "2024-05-17T19:55:46.347848Z",
     "shell.execute_reply.started": "2024-05-17T19:55:46.280523Z"
    }
   },
   "outputs": [
    {
     "data": {
      "text/plain": [
       "((159802, 40), (159802, 43), (159802, 111))"
      ]
     },
     "execution_count": 4,
     "metadata": {},
     "output_type": "execute_result"
    }
   ],
   "source": [
    "# X_train with original variables (excluding employment):\n",
    "X_train_orig = X_train[orig_vars]\n",
    "\n",
    "# X_train + derived variables (excluding employment):\n",
    "X_train_new = X_train[orig_vars + new_vars]\n",
    "\n",
    "# X_train + employment features (46 columns):\n",
    "X_train_all = X_train_new.join(empleo_features)\n",
    "\n",
    "X_train_orig.shape, X_train_new.shape, X_train_all.shape"
   ]
  },
  {
   "cell_type": "markdown",
   "id": "16cf4e2a-8d7d-4bc3-94b0-78097022c735",
   "metadata": {},
   "source": [
    "<a id=model><a />\n",
    "# Modeling"
   ]
  },
  {
   "cell_type": "markdown",
   "id": "fa7c1cfd-3501-4aac-b4fb-fc0078653353",
   "metadata": {},
   "source": [
    "## ML Model Selection"
   ]
  },
  {
   "cell_type": "code",
   "execution_count": 12,
   "id": "4efd331d-e2c8-428f-b3ee-0e3d780a697a",
   "metadata": {
    "execution": {
     "iopub.execute_input": "2024-05-17T16:54:58.590845Z",
     "iopub.status.busy": "2024-05-17T16:54:58.590845Z",
     "iopub.status.idle": "2024-05-17T16:56:46.869584Z",
     "shell.execute_reply": "2024-05-17T16:56:46.869076Z",
     "shell.execute_reply.started": "2024-05-17T16:54:58.590845Z"
    }
   },
   "outputs": [
    {
     "name": "stdout",
     "output_type": "stream",
     "text": [
      "\u001b[1mGaussianNB             \u001b[0m : fit_time=1.00s | accuracy=0.867 (0.001) | roc_auc=0.661 (0.008) | f1=0.039 (0.023) | precision=0.243 (0.053) | recall=0.021 (0.014)\n",
      "\n",
      "\u001b[1mLogisticRegression     \u001b[0m : fit_time=8.62s | accuracy=0.872 (0.000) | roc_auc=0.521 (0.007) | f1=0.000 (0.000) | precision=0.025 (0.075) | recall=0.000 (0.000)\n",
      "\n",
      "\u001b[1mLGBMClassifier         \u001b[0m : fit_time=6.05s | accuracy=0.872 (0.000) | roc_auc=0.723 (0.003) | f1=0.007 (0.001) | precision=0.518 (0.157) | recall=0.004 (0.001)\n",
      "\n",
      "\u001b[1mRandomForestClassifier \u001b[0m : fit_time=86.61s | accuracy=0.872 (0.000) | roc_auc=0.684 (0.003) | f1=0.021 (0.003) | precision=0.505 (0.082) | recall=0.011 (0.001)\n",
      "\n"
     ]
    }
   ],
   "source": [
    "from sklearn.model_selection import StratifiedKFold, cross_validate\n",
    "from sklearn.linear_model import LogisticRegression\n",
    "from sklearn.ensemble import RandomForestClassifier\n",
    "from sklearn.naive_bayes import GaussianNB\n",
    "from lightgbm import LGBMClassifier\n",
    "\n",
    "# Instantiate the models with default hyperparameters:\n",
    "gaussian_nb    = GaussianNB()\n",
    "logreg         = LogisticRegression(n_jobs=-1, random_state=0)\n",
    "rfc            = RandomForestClassifier(n_jobs=-1, random_state=0)\n",
    "lgbmc          = LGBMClassifier(objective='binary', verbose=-1, n_jobs=-1, random_state=0)\n",
    "\n",
    "# Save in tuples:\n",
    "modelos = [\n",
    "    ('GaussianNB', gaussian_nb),\n",
    "    ('LogisticRegression', logreg),\n",
    "    ('LGBMClassifier', lgbmc),\n",
    "    ('RandomForestClassifier', rfc)\n",
    "]\n",
    "\n",
    "# Ensuring each fold is representative of the training set\n",
    "# due to the class imbalance in y:\n",
    "kfold_strat = StratifiedKFold(n_splits=10, shuffle=True, random_state=0)\n",
    "\n",
    "# Cross-validation and results of each model:\n",
    "for name, model in modelos:\n",
    "    dict_cv = cross_validate(\n",
    "        estimator=model,\n",
    "        X=X_train_all,  # with all features!\n",
    "        y=y_train,\n",
    "        scoring=['accuracy', 'roc_auc', 'f1', 'precision', 'recall'],\n",
    "        cv=kfold_strat,\n",
    "        n_jobs=-1,\n",
    "        verbose=0,        \n",
    "    )\n",
    "    print(\n",
    "        f\"\\033[1m{name.ljust(23)}\\033[0m\",                                                                 \n",
    "        f\": fit_time={np.mean(dict_cv['fit_time']):.2f}s\",                                               \n",
    "        f\"| accuracy={np.mean(dict_cv['test_accuracy']):.3f} ({np.std(dict_cv['test_accuracy']):.3f})\",                                                               \n",
    "        f\"| roc_auc={np.mean(dict_cv['test_roc_auc']):.3f} ({np.std(dict_cv['test_roc_auc']):.3f})\",     \n",
    "        f\"| f1={np.mean(dict_cv['test_f1']):.3f} ({np.std(dict_cv['test_f1']):.3f})\",                      \n",
    "        f\"| precision={np.mean(dict_cv['test_precision']):.3f} ({np.std(dict_cv['test_precision']):.3f})\",\n",
    "        f\"| recall={np.mean(dict_cv['test_recall']):.3f} ({np.std(dict_cv['test_recall']):.3f})\",                 \n",
    "    )\n",
    "    print()"
   ]
  },
  {
   "cell_type": "code",
   "execution_count": 8,
   "id": "efc419a7-d075-47fd-a961-b73f1aee349a",
   "metadata": {
    "execution": {
     "iopub.execute_input": "2024-05-17T12:55:15.087313Z",
     "iopub.status.busy": "2024-05-17T12:55:15.087313Z",
     "iopub.status.idle": "2024-05-17T12:55:15.103058Z",
     "shell.execute_reply": "2024-05-17T12:55:15.102550Z",
     "shell.execute_reply.started": "2024-05-17T12:55:15.087313Z"
    }
   },
   "outputs": [
    {
     "data": {
      "text/plain": [
       "default\n",
       "0    0.871948\n",
       "1    0.128052\n",
       "Name: proportion, dtype: float64"
      ]
     },
     "execution_count": 8,
     "metadata": {},
     "output_type": "execute_result"
    }
   ],
   "source": [
    "y_train.value_counts(normalize=True)"
   ]
  },
  {
   "cell_type": "markdown",
   "id": "a7ac9d86-dd02-465c-bb6c-b8931b49bb9d",
   "metadata": {},
   "source": [
    "Observations:\n",
    "- Using 5 classification metrics to establish a more comprehensive comparison framework, it is observed that **LightGBM is the best model in terms of ROC AUC with 0.72**, with a much faster training time than Random Forest with 0.68 (6s < 86s)!\n",
    "\n",
    "- **Looking into the specific metrics for the positive class (1), f1, precision, and recall, very low f1 scores are observed in all models, which is expected given the few default data**. The Naïve Bayes model produces a better f1 score of 0.023 > 0.007 than LGBM but with a lower roc_auc of 0.66 < 0.723, indicating that it relatively classifies worse than LGBM. We will not consider Random Forest for now, as it takes a long time to train and therefore we will not be able to iterate multiple times.\n",
    "\n",
    "- For now, **we will stick with the LGBM model**.\n"
   ]
  },
  {
   "cell_type": "markdown",
   "id": "fd98855c-6fe0-4879-915c-88c1d5a7fb3c",
   "metadata": {},
   "source": [
    "## Compare Models with different set of Features"
   ]
  },
  {
   "cell_type": "code",
   "execution_count": 13,
   "id": "50878e4a-c4f2-4662-8313-0a2670fd2dde",
   "metadata": {
    "execution": {
     "iopub.execute_input": "2024-05-17T16:56:46.907920Z",
     "iopub.status.busy": "2024-05-17T16:56:46.907920Z",
     "iopub.status.idle": "2024-05-17T16:57:07.756322Z",
     "shell.execute_reply": "2024-05-17T16:57:07.756322Z",
     "shell.execute_reply.started": "2024-05-17T16:56:46.907920Z"
    }
   },
   "outputs": [
    {
     "name": "stdout",
     "output_type": "stream",
     "text": [
      "\u001b[1mLGBMClassifier\u001b[0m : shape=(159802, 40) | accuracy=0.872 (0.000) | roc_auc=0.722 (0.004) | f1=0.008 (0.002) | precision=0.484 (0.101) | recall=0.004 (0.001)\n",
      "\n",
      "\u001b[1mLGBMClassifier\u001b[0m : shape=(159802, 43) | accuracy=0.872 (0.000) | roc_auc=0.722 (0.004) | f1=0.008 (0.003) | precision=0.472 (0.135) | recall=0.004 (0.001)\n",
      "\n",
      "\u001b[1mLGBMClassifier\u001b[0m : shape=(159802, 111) | accuracy=0.872 (0.000) | roc_auc=0.723 (0.003) | f1=0.007 (0.001) | precision=0.518 (0.157) | recall=0.004 (0.001)\n",
      "\n"
     ]
    }
   ],
   "source": [
    "for train_set in [X_train_orig, X_train_new, X_train_all]:\n",
    "    dict_cv = cross_validate(\n",
    "        estimator=lgbmc,\n",
    "        X=train_set, \n",
    "        y=y_train,\n",
    "        scoring=['accuracy', 'roc_auc', 'f1', 'precision', 'recall'],\n",
    "        cv=kfold_strat,\n",
    "        n_jobs=-1,\n",
    "        verbose=0,        \n",
    "    )\n",
    "    print(\n",
    "        f\"\\033[1m{lgbmc.__class__.__name__.ljust(10)}\\033[0m\",                                                                 \n",
    "        f\": shape={train_set.shape}\",                                                                                                             \n",
    "        f\"| accuracy={np.mean(dict_cv['test_accuracy']):.3f} ({np.std(dict_cv['test_accuracy']):.3f})\",     \n",
    "        f\"| roc_auc={np.mean(dict_cv['test_roc_auc']):.3f} ({np.std(dict_cv['test_roc_auc']):.3f})\",     \n",
    "        f\"| f1={np.mean(dict_cv['test_f1']):.3f} ({np.std(dict_cv['test_f1']):.3f})\",                      \n",
    "        f\"| precision={np.mean(dict_cv['test_precision']):.3f} ({np.std(dict_cv['test_precision']):.3f})\",\n",
    "        f\"| recall={np.mean(dict_cv['test_recall']):.3f} ({np.std(dict_cv['test_recall']):.3f})\",                 \n",
    "    )\n",
    "    print()"
   ]
  },
  {
   "cell_type": "markdown",
   "id": "39243d28-fc44-4cfc-8c75-183558481ff1",
   "metadata": {},
   "source": [
    "Observations:\n",
    "- According to the results of the same model on different subsets of increasing features, **no improvements in model performance are observed by adding derived variables**: the metrics using the original variables (without `employment`) are superior to those in the models where they were incorporated. **Instead, the incorporation of these new variables has added noise to the model**! The inclusion of the employment columns has slightly increased the metrics in roc_auc from 0.722 to 0.723. In my opinion, *this slight increase is not enough to justify keeping 68 additional variables*!\n",
    "\n",
    "- I decide to use the original variables going forward: `X_train_orig`.\n"
   ]
  },
  {
   "cell_type": "markdown",
   "id": "87eb8e08-f575-4878-af96-ed1a17949a2f",
   "metadata": {},
   "source": [
    "<a id=fea><a />\n",
    "# Best Features Selection"
   ]
  },
  {
   "cell_type": "code",
   "execution_count": 6,
   "id": "454389b6-5272-4ef0-8bf6-df7be3e23133",
   "metadata": {
    "execution": {
     "iopub.execute_input": "2024-05-17T19:56:15.196785Z",
     "iopub.status.busy": "2024-05-17T19:56:15.195783Z",
     "iopub.status.idle": "2024-05-17T19:56:16.281177Z",
     "shell.execute_reply": "2024-05-17T19:56:16.281177Z",
     "shell.execute_reply.started": "2024-05-17T19:56:15.196785Z"
    }
   },
   "outputs": [
    {
     "data": {
      "image/png": "[encoded data removed]",
      "text/plain": [
       "<Figure size 1000x1400 with 1 Axes>"
      ]
     },
     "metadata": {},
     "output_type": "display_data"
    }
   ],
   "source": [
    "lgbmc.fit(X_train_orig, y_train)\n",
    "\n",
    "# Mostrar las 50 variables más relevantes en la predicción (LGBM):\n",
    "my.feature_importance_plot(\n",
    "    tree_predictor=lgbmc,\n",
    "    n_rows=50,\n",
    "    figsize=(10, 14)\n",
    ")"
   ]
  },
  {
   "cell_type": "code",
   "execution_count": 15,
   "id": "a9436b98-0cce-4321-8522-09e7d0df5f7c",
   "metadata": {
    "execution": {
     "iopub.execute_input": "2024-05-17T17:03:02.176766Z",
     "iopub.status.busy": "2024-05-17T17:03:02.176766Z",
     "iopub.status.idle": "2024-05-17T17:03:02.363276Z",
     "shell.execute_reply": "2024-05-17T17:03:02.362268Z",
     "shell.execute_reply.started": "2024-05-17T17:03:02.176766Z"
    }
   },
   "outputs": [
    {
     "data": {
      "text/plain": [
       "<Axes: >"
      ]
     },
     "execution_count": 15,
     "metadata": {},
     "output_type": "execute_result"
    },
    {
     "data": {
      "image/png": "[encoded data removed]",
      "text/plain": [
       "<Figure size 1000x800 with 2 Axes>"
      ]
     },
     "metadata": {},
     "output_type": "display_data"
    }
   ],
   "source": [
    "plt.figure(figsize=(10, 8))\n",
    "\n",
    "sns.heatmap(\n",
    "    X_train_orig[['principal', 'tipo_interes', 'imp_cuota']].corr(),\n",
    "    annot=True,\n",
    "    annot_kws={\"fontsize\": 6},\n",
    "    cmap='coolwarm',\n",
    "    vmin=-1, vmax=1\n",
    ")"
   ]
  },
  {
   "cell_type": "code",
   "execution_count": 7,
   "id": "fa98b486-ed8d-4838-ad20-f2a64fbc553c",
   "metadata": {
    "execution": {
     "iopub.execute_input": "2024-05-17T19:56:37.779447Z",
     "iopub.status.busy": "2024-05-17T19:56:37.779447Z",
     "iopub.status.idle": "2024-05-17T19:56:37.818152Z",
     "shell.execute_reply": "2024-05-17T19:56:37.816129Z",
     "shell.execute_reply.started": "2024-05-17T19:56:37.779447Z"
    }
   },
   "outputs": [],
   "source": [
    "# TODO: eliminar imp_cuota por desconocer su proceso de generacion.\n",
    "X_train_orig.drop(columns='imp_cuota', inplace=True)"
   ]
  },
  {
   "cell_type": "markdown",
   "id": "2d6ce59d-f9a0-47c2-b750-61b688d16c64",
   "metadata": {},
   "source": [
    "Observations:\n",
    "- The plot of variable importance suggests that the **10 most predictive variables**, at a multivariate level, are as follows:\n",
    "    1. `interest_rate`.\n",
    "    2. `principal`.\n",
    "    3. `installment`: it is **highly correlated with `principal`**, which makes sense. We will check removing this variable to evaluate it. It may be capturing additional information by interacting with the rest of the variables!\n",
    "    4. `income`.\n",
    "    5. `dti`.\n",
    "    6. `term`.\n",
    "    7. `credit_rating`.\n",
    "    8. `num_credit_lines`.\n",
    "    9. `perc_utilization_75p`.\n",
    "\n",
    "- **Many of these variables are related to credit history and are collectible only for veteran borrowers (in my opinion)** and not for new customers:\n",
    "    - `dti`: In many cases, *the debts of new customers are not known*.\n",
    "    - `credit_rating`: It is based on the financial and credit history of an individual or entity. *For new customers, there may not be enough information to calculate a credit rating*.\n",
    "    - `num_credit_lines` and `perc_utilization_75p`, `perc_revolving_utilization`: In this case, *we do not know if these are credit lines / credit cards issued by the lending financial institution or also include those issued by other entities*.\n",
    "    - `installment`: It is not the result of applying `Monthly payment = (P * i) / (1 - (1 + i) ^ (-n)`. It may have been calculated using another formula or taking other factors into account. Therefore, **we will discard it for production purposes as we will not be able to generate it**.\n"
   ]
  },
  {
   "cell_type": "code",
   "execution_count": 8,
   "id": "7b4e9480-d41b-4c46-a777-ed12c1726418",
   "metadata": {
    "execution": {
     "iopub.execute_input": "2024-05-17T19:56:41.042997Z",
     "iopub.status.busy": "2024-05-17T19:56:41.041998Z",
     "iopub.status.idle": "2024-05-17T19:56:41.054512Z",
     "shell.execute_reply": "2024-05-17T19:56:41.052961Z",
     "shell.execute_reply.started": "2024-05-17T19:56:41.042997Z"
    }
   },
   "outputs": [
    {
     "data": {
      "text/plain": [
       "['rating_A', 'rating_B', 'rating_C', 'rating_D', 'rating_E', 'rating_F-G']"
      ]
     },
     "execution_count": 8,
     "metadata": {},
     "output_type": "execute_result"
    }
   ],
   "source": [
    "mask_rating = X_train_orig.columns.str.contains('rating_')\n",
    "rating_list = X_train_orig.columns[mask_rating].tolist()\n",
    "rating_list"
   ]
  },
  {
   "cell_type": "code",
   "execution_count": 11,
   "id": "c28b6288-8965-4170-bd11-10fcd1977e88",
   "metadata": {
    "execution": {
     "iopub.execute_input": "2024-05-17T19:57:03.623248Z",
     "iopub.status.busy": "2024-05-17T19:57:03.623248Z",
     "iopub.status.idle": "2024-05-17T19:57:16.544502Z",
     "shell.execute_reply": "2024-05-17T19:57:16.544502Z",
     "shell.execute_reply.started": "2024-05-17T19:57:03.623248Z"
    }
   },
   "outputs": [
    {
     "name": "stdout",
     "output_type": "stream",
     "text": [
      "\u001b[1mLGBMClassifier\u001b[0m : shape=(159802, 39) | accuracy=0.872 (0.000) | roc_auc=0.721 (0.004) | f1=0.009 (0.004) | precision=0.455 (0.162) | recall=0.004 (0.002)\n",
      "\n",
      "\u001b[1mLGBMClassifier\u001b[0m : shape=(159802, 29) | accuracy=0.872 (0.000) | roc_auc=0.716 (0.004) | f1=0.001 (0.001) | precision=0.543 (0.234) | recall=0.001 (0.000)\n",
      "\n"
     ]
    }
   ],
   "source": [
    "X_train_nuevos_clientes = X_train_orig.drop(columns=rating_list + [\n",
    "    'dti', 'num_lineas_credito', 'porc_tarjetas_75p', 'porc_uso_revolving'\n",
    "])\n",
    "\n",
    "for train_set in [X_train_orig, X_train_nuevos_clientes]:\n",
    "    dict_cv = cross_validate(\n",
    "        estimator=lgbmc,\n",
    "        X=train_set, \n",
    "        y=y_train,\n",
    "        scoring=['accuracy', 'roc_auc', 'f1', 'precision', 'recall'],\n",
    "        cv=kfold_strat,\n",
    "        n_jobs=-1,\n",
    "        verbose=0,        \n",
    "    )\n",
    "    print(\n",
    "        f\"\\033[1m{lgbmc.__class__.__name__.ljust(10)}\\033[0m\",                                                                 \n",
    "        f\": shape={train_set.shape}\",                                                                                                             \n",
    "        f\"| accuracy={np.mean(dict_cv['test_accuracy']):.3f} ({np.std(dict_cv['test_accuracy']):.3f})\",     \n",
    "        f\"| roc_auc={np.mean(dict_cv['test_roc_auc']):.3f} ({np.std(dict_cv['test_roc_auc']):.3f})\",     \n",
    "        f\"| f1={np.mean(dict_cv['test_f1']):.3f} ({np.std(dict_cv['test_f1']):.3f})\",                      \n",
    "        f\"| precision={np.mean(dict_cv['test_precision']):.3f} ({np.std(dict_cv['test_precision']):.3f})\",\n",
    "        f\"| recall={np.mean(dict_cv['test_recall']):.3f} ({np.std(dict_cv['test_recall']):.3f})\",                 \n",
    "    )\n",
    "    print()"
   ]
  },
  {
   "cell_type": "markdown",
   "id": "4f7f2763-fabc-4a69-b0e0-436a34ce01e1",
   "metadata": {
    "execution": {
     "iopub.execute_input": "2024-05-15T16:41:45.007605Z",
     "iopub.status.busy": "2024-05-15T16:41:45.006606Z",
     "iopub.status.idle": "2024-05-15T16:41:45.017426Z",
     "shell.execute_reply": "2024-05-15T16:41:45.016348Z",
     "shell.execute_reply.started": "2024-05-15T16:41:45.007605Z"
    }
   },
   "source": [
    "Observations:\n",
    "- The **prediction model for new customers** has 10 fewer variables (5 of them are dummies of `credit_rating`) and, as expected (including a couple of predictive variables within), **performs worse than the model with information from borrowers' credit history**. The roc_auc of the model open to new customers has a roc_auc of 0.716 compared to 0.721 for the model with credit history information.\n",
    "\n",
    "- Knowing that our model predicts the minority class, defaults, poorly with an f1 score below 0.01, I believe it would be **more convenient to exclude new customers and focus only on those customers for whom we have credit history information**, using predictive variables such as `dti`, `perc_revolving_utilization`, `perc_utilization_75p`, among others. *We hope to have, at least, a decent model for default detection using the variables we have related to borrowers' credit history*.\n"
   ]
  },
  {
   "cell_type": "code",
   "execution_count": 12,
   "id": "675ab275-e4c1-4cde-9554-7bc6a486a19b",
   "metadata": {
    "execution": {
     "iopub.execute_input": "2024-05-17T19:57:21.744839Z",
     "iopub.status.busy": "2024-05-17T19:57:21.743837Z",
     "iopub.status.idle": "2024-05-17T19:57:22.291884Z",
     "shell.execute_reply": "2024-05-17T19:57:22.291884Z",
     "shell.execute_reply.started": "2024-05-17T19:57:21.744839Z"
    }
   },
   "outputs": [
    {
     "data": {
      "text/html": [
       "<div>\n",
       "<style scoped>\n",
       "    .dataframe tbody tr th:only-of-type {\n",
       "        vertical-align: middle;\n",
       "    }\n",
       "\n",
       "    .dataframe tbody tr th {\n",
       "        vertical-align: top;\n",
       "    }\n",
       "\n",
       "    .dataframe thead th {\n",
       "        text-align: right;\n",
       "    }\n",
       "</style>\n",
       "<table border=\"1\" class=\"dataframe\">\n",
       "  <thead>\n",
       "    <tr style=\"text-align: right;\">\n",
       "      <th></th>\n",
       "      <th>feature_importance</th>\n",
       "    </tr>\n",
       "  </thead>\n",
       "  <tbody>\n",
       "    <tr>\n",
       "      <th>tipo_interes</th>\n",
       "      <td>648</td>\n",
       "    </tr>\n",
       "    <tr>\n",
       "      <th>principal</th>\n",
       "      <td>351</td>\n",
       "    </tr>\n",
       "    <tr>\n",
       "      <th>ingresos</th>\n",
       "      <td>346</td>\n",
       "    </tr>\n",
       "    <tr>\n",
       "      <th>dti</th>\n",
       "      <td>345</td>\n",
       "    </tr>\n",
       "    <tr>\n",
       "      <th>porc_uso_revolving</th>\n",
       "      <td>322</td>\n",
       "    </tr>\n",
       "    <tr>\n",
       "      <th>num_lineas_credito</th>\n",
       "      <td>213</td>\n",
       "    </tr>\n",
       "    <tr>\n",
       "      <th>porc_tarjetas_75p</th>\n",
       "      <td>121</td>\n",
       "    </tr>\n",
       "    <tr>\n",
       "      <th>num_hipotecas</th>\n",
       "      <td>98</td>\n",
       "    </tr>\n",
       "    <tr>\n",
       "      <th>ingresos_verificados_Not_Verified</th>\n",
       "      <td>46</td>\n",
       "    </tr>\n",
       "    <tr>\n",
       "      <th>ingresos_verificados_Verified</th>\n",
       "      <td>41</td>\n",
       "    </tr>\n",
       "    <tr>\n",
       "      <th>antigüedad_empleo_10+_years</th>\n",
       "      <td>39</td>\n",
       "    </tr>\n",
       "    <tr>\n",
       "      <th>num_derogatorios</th>\n",
       "      <td>34</td>\n",
       "    </tr>\n",
       "    <tr>\n",
       "      <th>vivienda_MORTGAGE</th>\n",
       "      <td>31</td>\n",
       "    </tr>\n",
       "    <tr>\n",
       "      <th>vivienda_RENT</th>\n",
       "      <td>28</td>\n",
       "    </tr>\n",
       "    <tr>\n",
       "      <th>rating_E</th>\n",
       "      <td>24</td>\n",
       "    </tr>\n",
       "    <tr>\n",
       "      <th>rating_B</th>\n",
       "      <td>24</td>\n",
       "    </tr>\n",
       "    <tr>\n",
       "      <th>rating_C</th>\n",
       "      <td>23</td>\n",
       "    </tr>\n",
       "    <tr>\n",
       "      <th>ingresos_verificados_Source_Verified</th>\n",
       "      <td>22</td>\n",
       "    </tr>\n",
       "    <tr>\n",
       "      <th>antigüedad_empleo_2_years</th>\n",
       "      <td>20</td>\n",
       "    </tr>\n",
       "    <tr>\n",
       "      <th>antigüedad_empleo_3_years</th>\n",
       "      <td>20</td>\n",
       "    </tr>\n",
       "    <tr>\n",
       "      <th>finalidad_other</th>\n",
       "      <td>20</td>\n",
       "    </tr>\n",
       "    <tr>\n",
       "      <th>rating_D</th>\n",
       "      <td>19</td>\n",
       "    </tr>\n",
       "    <tr>\n",
       "      <th>rating_A</th>\n",
       "      <td>19</td>\n",
       "    </tr>\n",
       "    <tr>\n",
       "      <th>finalidad_debt_consolidation</th>\n",
       "      <td>19</td>\n",
       "    </tr>\n",
       "    <tr>\n",
       "      <th>rating_F-G</th>\n",
       "      <td>18</td>\n",
       "    </tr>\n",
       "    <tr>\n",
       "      <th>finalidad_credit_card</th>\n",
       "      <td>15</td>\n",
       "    </tr>\n",
       "    <tr>\n",
       "      <th>antigüedad_empleo_&lt;_1_year</th>\n",
       "      <td>15</td>\n",
       "    </tr>\n",
       "    <tr>\n",
       "      <th>num_cuotas__36_months</th>\n",
       "      <td>15</td>\n",
       "    </tr>\n",
       "    <tr>\n",
       "      <th>antigüedad_empleo_9_years</th>\n",
       "      <td>12</td>\n",
       "    </tr>\n",
       "    <tr>\n",
       "      <th>antigüedad_empleo_4_years</th>\n",
       "      <td>8</td>\n",
       "    </tr>\n",
       "    <tr>\n",
       "      <th>antigüedad_empleo_5_years</th>\n",
       "      <td>8</td>\n",
       "    </tr>\n",
       "    <tr>\n",
       "      <th>antigüedad_empleo_8_years</th>\n",
       "      <td>8</td>\n",
       "    </tr>\n",
       "    <tr>\n",
       "      <th>antigüedad_empleo_1_year</th>\n",
       "      <td>7</td>\n",
       "    </tr>\n",
       "    <tr>\n",
       "      <th>finalidad_home_improvement</th>\n",
       "      <td>6</td>\n",
       "    </tr>\n",
       "    <tr>\n",
       "      <th>antigüedad_empleo_7_years</th>\n",
       "      <td>5</td>\n",
       "    </tr>\n",
       "    <tr>\n",
       "      <th>vivienda_OWN</th>\n",
       "      <td>4</td>\n",
       "    </tr>\n",
       "    <tr>\n",
       "      <th>num_cuotas__60_months</th>\n",
       "      <td>3</td>\n",
       "    </tr>\n",
       "    <tr>\n",
       "      <th>antigüedad_empleo_6_years</th>\n",
       "      <td>2</td>\n",
       "    </tr>\n",
       "    <tr>\n",
       "      <th>num_cancelaciones_12meses</th>\n",
       "      <td>1</td>\n",
       "    </tr>\n",
       "  </tbody>\n",
       "</table>\n",
       "</div>"
      ],
      "text/plain": [
       "                                      feature_importance\n",
       "tipo_interes                                         648\n",
       "principal                                            351\n",
       "ingresos                                             346\n",
       "dti                                                  345\n",
       "porc_uso_revolving                                   322\n",
       "num_lineas_credito                                   213\n",
       "porc_tarjetas_75p                                    121\n",
       "num_hipotecas                                         98\n",
       "ingresos_verificados_Not_Verified                     46\n",
       "ingresos_verificados_Verified                         41\n",
       "antigüedad_empleo_10+_years                           39\n",
       "num_derogatorios                                      34\n",
       "vivienda_MORTGAGE                                     31\n",
       "vivienda_RENT                                         28\n",
       "rating_E                                              24\n",
       "rating_B                                              24\n",
       "rating_C                                              23\n",
       "ingresos_verificados_Source_Verified                  22\n",
       "antigüedad_empleo_2_years                             20\n",
       "antigüedad_empleo_3_years                             20\n",
       "finalidad_other                                       20\n",
       "rating_D                                              19\n",
       "rating_A                                              19\n",
       "finalidad_debt_consolidation                          19\n",
       "rating_F-G                                            18\n",
       "finalidad_credit_card                                 15\n",
       "antigüedad_empleo_<_1_year                            15\n",
       "num_cuotas__36_months                                 15\n",
       "antigüedad_empleo_9_years                             12\n",
       "antigüedad_empleo_4_years                              8\n",
       "antigüedad_empleo_5_years                              8\n",
       "antigüedad_empleo_8_years                              8\n",
       "antigüedad_empleo_1_year                               7\n",
       "finalidad_home_improvement                             6\n",
       "antigüedad_empleo_7_years                              5\n",
       "vivienda_OWN                                           4\n",
       "num_cuotas__60_months                                  3\n",
       "antigüedad_empleo_6_years                              2\n",
       "num_cancelaciones_12meses                              1"
      ]
     },
     "execution_count": 12,
     "metadata": {},
     "output_type": "execute_result"
    }
   ],
   "source": [
    "lgbmc.fit(X_train_orig, y_train)\n",
    "\n",
    "# Mejores variables para el modelo inclusivo:\n",
    "df_bestfeats = my.feature_importance_plot(\n",
    "    tree_predictor=lgbmc,\n",
    "    return_df=True\n",
    ")\n",
    "\n",
    "df_bestfeats"
   ]
  },
  {
   "cell_type": "code",
   "execution_count": 13,
   "id": "e6c475b5-bd36-4531-aa80-56e9442469f6",
   "metadata": {
    "execution": {
     "iopub.execute_input": "2024-05-17T19:57:25.477734Z",
     "iopub.status.busy": "2024-05-17T19:57:25.476735Z",
     "iopub.status.idle": "2024-05-17T19:57:25.500170Z",
     "shell.execute_reply": "2024-05-17T19:57:25.499154Z",
     "shell.execute_reply.started": "2024-05-17T19:57:25.477734Z"
    }
   },
   "outputs": [],
   "source": [
    "# TODO: Change column names. Column name 'num_cuotas' produced by LGBM \n",
    "#(no spaces allowed, replaced by '_') differs from the original.\n",
    "X_train.rename(columns={\n",
    "    'num_cuotas_ 36 months': 'num_cuotas__36_months',\n",
    "    'num_cuotas_ 60 months': 'num_cuotas__60_months',\n",
    "    'antigüedad_empleo_1 year': 'antigüedad_empleo_1_year',\n",
    "    'antigüedad_empleo_10+ years': 'antigüedad_empleo_10+_years',\n",
    "    'antigüedad_empleo_2 years': 'antigüedad_empleo_2_years',\n",
    "    'antigüedad_empleo_3 years': 'antigüedad_empleo_3_years',\n",
    "    'antigüedad_empleo_4 years': 'antigüedad_empleo_4_years',\n",
    "    'antigüedad_empleo_5 years': 'antigüedad_empleo_5_years',\n",
    "    'antigüedad_empleo_6 years': 'antigüedad_empleo_6_years',\n",
    "    'antigüedad_empleo_7 years': 'antigüedad_empleo_7_years',\n",
    "    'antigüedad_empleo_8 years': 'antigüedad_empleo_8_years',\n",
    "    'antigüedad_empleo_9 years': 'antigüedad_empleo_9_years',\n",
    "    'antigüedad_empleo_< 1 year': 'antigüedad_empleo_<_1_year',\n",
    "    'ingresos_verificados_Not Verified': 'ingresos_verificados_Not_Verified',\n",
    "    'ingresos_verificados_Source Verified': 'ingresos_verificados_Source_Verified',\n",
    "}, inplace=True)"
   ]
  },
  {
   "cell_type": "code",
   "execution_count": 18,
   "id": "14e5feef-2f3f-4b83-b987-f93d94695cbf",
   "metadata": {
    "execution": {
     "iopub.execute_input": "2024-05-17T20:00:47.240797Z",
     "iopub.status.busy": "2024-05-17T20:00:47.239840Z",
     "iopub.status.idle": "2024-05-17T20:01:23.947147Z",
     "shell.execute_reply": "2024-05-17T20:01:23.947147Z",
     "shell.execute_reply.started": "2024-05-17T20:00:47.240797Z"
    }
   },
   "outputs": [
    {
     "name": "stdout",
     "output_type": "stream",
     "text": [
      "\u001b[1mLGBMClassifier\u001b[0m : shape=(159802, 5) | accuracy=0.872 (0.000) | roc_auc=0.715 (0.005) | f1=0.001 (0.001) | precision=0.298 (0.188) | recall=0.001 (0.000)\n",
      "\n",
      "\u001b[1mLGBMClassifier\u001b[0m : shape=(159802, 10) | accuracy=0.872 (0.000) | roc_auc=0.714 (0.004) | f1=0.001 (0.001) | precision=0.464 (0.340) | recall=0.001 (0.001)\n",
      "\n",
      "\u001b[1mLGBMClassifier\u001b[0m : shape=(159802, 15) | accuracy=0.872 (0.000) | roc_auc=0.719 (0.004) | f1=0.007 (0.003) | precision=0.492 (0.133) | recall=0.004 (0.002)\n",
      "\n",
      "\u001b[1mLGBMClassifier\u001b[0m : shape=(159802, 20) | accuracy=0.872 (0.000) | roc_auc=0.722 (0.004) | f1=0.006 (0.003) | precision=0.427 (0.122) | recall=0.003 (0.001)\n",
      "\n",
      "\u001b[1mLGBMClassifier\u001b[0m : shape=(159802, 25) | accuracy=0.872 (0.000) | roc_auc=0.723 (0.003) | f1=0.012 (0.003) | precision=0.529 (0.098) | recall=0.006 (0.002)\n",
      "\n",
      "\u001b[1mLGBMClassifier\u001b[0m : shape=(159802, 30) | accuracy=0.872 (0.000) | roc_auc=0.722 (0.003) | f1=0.011 (0.004) | precision=0.497 (0.102) | recall=0.005 (0.002)\n",
      "\n",
      "\u001b[1mLGBMClassifier\u001b[0m : shape=(159802, 35) | accuracy=0.872 (0.000) | roc_auc=0.722 (0.003) | f1=0.010 (0.003) | precision=0.502 (0.124) | recall=0.005 (0.002)\n",
      "\n",
      "\u001b[1mLGBMClassifier\u001b[0m : shape=(159802, 39) | accuracy=0.872 (0.000) | roc_auc=0.721 (0.004) | f1=0.009 (0.004) | precision=0.455 (0.162) | recall=0.004 (0.002)\n",
      "\n"
     ]
    }
   ],
   "source": [
    "# Create many feature subsets with the most predictive variables:\n",
    "X_best5 = X_train[list(df_bestfeats.index[:5])]\n",
    "X_best10 = X_train[list(df_bestfeats.index[:10])]\n",
    "X_best15 = X_train[list(df_bestfeats.index[:15])]\n",
    "X_best20 = X_train[list(df_bestfeats.index[:20])]\n",
    "X_best25 = X_train[list(df_bestfeats.index[:25])]\n",
    "X_best30 = X_train[list(df_bestfeats.index[:30])]\n",
    "X_best35 = X_train[list(df_bestfeats.index[:35])]\n",
    "X_best_all = X_train[list(df_bestfeats.index[:40])]\n",
    "\n",
    "lista_Xs = [X_best5, X_best10, X_best15, X_best20, X_best25, X_best30, X_best35, X_best_all]\n",
    "for train_set in lista_Xs:\n",
    "    dict_cv = cross_validate(\n",
    "        estimator=lgbmc,\n",
    "        X=train_set, \n",
    "        y=y_train,\n",
    "        scoring=['accuracy', 'roc_auc', 'f1', 'precision', 'recall'],\n",
    "        cv=kfold_strat,\n",
    "        n_jobs=-1,\n",
    "        verbose=0,        \n",
    "    )\n",
    "    print(\n",
    "        f\"\\033[1m{lgbmc.__class__.__name__.ljust(10)}\\033[0m\",                                                                 \n",
    "        f\": shape={train_set.shape}\",                                                                                                             \n",
    "        f\"| accuracy={np.mean(dict_cv['test_accuracy']):.3f} ({np.std(dict_cv['test_accuracy']):.3f})\",     \n",
    "        f\"| roc_auc={np.mean(dict_cv['test_roc_auc']):.3f} ({np.std(dict_cv['test_roc_auc']):.3f})\",     \n",
    "        f\"| f1={np.mean(dict_cv['test_f1']):.3f} ({np.std(dict_cv['test_f1']):.3f})\",                      \n",
    "        f\"| precision={np.mean(dict_cv['test_precision']):.3f} ({np.std(dict_cv['test_precision']):.3f})\",\n",
    "        f\"| recall={np.mean(dict_cv['test_recall']):.3f} ({np.std(dict_cv['test_recall']):.3f})\",                 \n",
    "    )\n",
    "    print()"
   ]
  },
  {
   "cell_type": "code",
   "execution_count": 41,
   "id": "afca9feb-96b7-48f9-b8fa-4779db6b631f",
   "metadata": {
    "execution": {
     "iopub.execute_input": "2024-05-17T20:57:38.384235Z",
     "iopub.status.busy": "2024-05-17T20:57:38.383233Z",
     "iopub.status.idle": "2024-05-17T20:57:38.396569Z",
     "shell.execute_reply": "2024-05-17T20:57:38.395012Z",
     "shell.execute_reply.started": "2024-05-17T20:57:38.384235Z"
    }
   },
   "outputs": [
    {
     "data": {
      "text/plain": [
       "['../06_Other/final_variables']"
      ]
     },
     "execution_count": 41,
     "metadata": {},
     "output_type": "execute_result"
    }
   ],
   "source": [
    "import joblib\n",
    "\n",
    "# Guardamos las variables finales:\n",
    "vars_final = sorted(X_best25.columns)\n",
    "\n",
    "joblib.dump(value=vars_final, filename='../06_Other/final_variables')"
   ]
  },
  {
   "cell_type": "markdown",
   "id": "c5fc665c-10fa-4359-8002-0069112fdd0a",
   "metadata": {},
   "source": [
    "Observations:\n",
    "- We compare the results of different feature subsets ordered based on their predictive power against y.\n",
    "\n",
    "- These results suggest, based on the principle of parsimony as well, **that beyond the top 25 predictors, the model performance starts to degrade** due to the noise added by irrelevant features to the model.\n",
    "\n",
    "- Based on the above criterion, **we choose the subset with the top 25 predictors** with a roc_auc of 0.723, and f1 score of 0.012!\n"
   ]
  },
  {
   "cell_type": "markdown",
   "id": "4fff18d9-7679-40de-b40a-85880aa6a0ad",
   "metadata": {},
   "source": [
    "<a id=imbalance><a />\n",
    "# Handling Class Imbalance"
   ]
  },
  {
   "cell_type": "code",
   "execution_count": 143,
   "id": "64bc86e6-6b6d-41b7-86d0-e3b4d3af73d2",
   "metadata": {
    "execution": {
     "iopub.execute_input": "2024-05-15T18:20:18.679002Z",
     "iopub.status.busy": "2024-05-15T18:20:18.678004Z",
     "iopub.status.idle": "2024-05-15T18:20:18.692419Z",
     "shell.execute_reply": "2024-05-15T18:20:18.690408Z",
     "shell.execute_reply.started": "2024-05-15T18:20:18.679002Z"
    }
   },
   "outputs": [
    {
     "data": {
      "text/plain": [
       "default\n",
       "0    139339\n",
       "1     20463\n",
       "Name: count, dtype: int64"
      ]
     },
     "execution_count": 143,
     "metadata": {},
     "output_type": "execute_result"
    }
   ],
   "source": [
    "y_train.value_counts(normalize=False)"
   ]
  },
  {
   "cell_type": "markdown",
   "id": "adfefec3-76c0-423c-9452-4f92f844a7e4",
   "metadata": {},
   "source": [
    "## RUS + SMOTE"
   ]
  },
  {
   "cell_type": "code",
   "execution_count": 22,
   "id": "9fd78785-127f-422a-9fab-50cac20f86b8",
   "metadata": {
    "execution": {
     "iopub.execute_input": "2024-05-17T20:04:10.514539Z",
     "iopub.status.busy": "2024-05-17T20:04:10.513635Z",
     "iopub.status.idle": "2024-05-17T20:04:10.881192Z",
     "shell.execute_reply": "2024-05-17T20:04:10.881192Z",
     "shell.execute_reply.started": "2024-05-17T20:04:10.514539Z"
    }
   },
   "outputs": [
    {
     "data": {
      "text/plain": [
       "default\n",
       "0    69670\n",
       "1    20463\n",
       "Name: count, dtype: int64"
      ]
     },
     "execution_count": 22,
     "metadata": {},
     "output_type": "execute_result"
    }
   ],
   "source": [
    "from imblearn.under_sampling import RandomUnderSampler\n",
    "\n",
    "# reduce mayority class to 0.5 * original.\n",
    "rus = RandomUnderSampler(random_state=0, sampling_strategy=20463/np.round(0.5*139339))\n",
    "X_best25_rus, y_train_rus = rus.fit_resample(X_best25, y_train)\n",
    "\n",
    "y_train_rus.value_counts()"
   ]
  },
  {
   "cell_type": "code",
   "execution_count": 25,
   "id": "12e95f01-a909-478b-b4da-b6e9d232a473",
   "metadata": {
    "execution": {
     "iopub.execute_input": "2024-05-17T20:04:35.898112Z",
     "iopub.status.busy": "2024-05-17T20:04:35.898112Z",
     "iopub.status.idle": "2024-05-17T20:04:36.594675Z",
     "shell.execute_reply": "2024-05-17T20:04:36.594675Z",
     "shell.execute_reply.started": "2024-05-17T20:04:35.898112Z"
    }
   },
   "outputs": [
    {
     "data": {
      "text/plain": [
       "default\n",
       "0    69670\n",
       "1    40926\n",
       "Name: count, dtype: int64"
      ]
     },
     "execution_count": 25,
     "metadata": {},
     "output_type": "execute_result"
    }
   ],
   "source": [
    "from imblearn.over_sampling import SMOTE\n",
    "# Increase minority class to 1.5 * original.\n",
    "smote = SMOTE(random_state=0, sampling_strategy=np.round((20463*2))/69670)\n",
    "X_best25_rus_smote, y_train_rus_smote = smote.fit_resample(X_best25_rus, y_train_rus)\n",
    "\n",
    "y_train_rus_smote.value_counts()"
   ]
  },
  {
   "cell_type": "markdown",
   "id": "33f72080-05c8-4e3f-8d74-8344bd3848e6",
   "metadata": {},
   "source": [
    "## Class Weights"
   ]
  },
  {
   "cell_type": "code",
   "execution_count": 26,
   "id": "fc6da705-bb58-4568-9567-d806ab933207",
   "metadata": {
    "execution": {
     "iopub.execute_input": "2024-05-17T20:04:51.525344Z",
     "iopub.status.busy": "2024-05-17T20:04:51.525344Z",
     "iopub.status.idle": "2024-05-17T20:04:51.541827Z",
     "shell.execute_reply": "2024-05-17T20:04:51.539806Z",
     "shell.execute_reply.started": "2024-05-17T20:04:51.525344Z"
    }
   },
   "outputs": [
    {
     "data": {
      "text/html": [
       "<style>#sk-container-id-1 {\n",
       "  /* Definition of color scheme common for light and dark mode */\n",
       "  --sklearn-color-text: black;\n",
       "  --sklearn-color-line: gray;\n",
       "  /* Definition of color scheme for unfitted estimators */\n",
       "  --sklearn-color-unfitted-level-0: #fff5e6;\n",
       "  --sklearn-color-unfitted-level-1: #f6e4d2;\n",
       "  --sklearn-color-unfitted-level-2: #ffe0b3;\n",
       "  --sklearn-color-unfitted-level-3: chocolate;\n",
       "  /* Definition of color scheme for fitted estimators */\n",
       "  --sklearn-color-fitted-level-0: #f0f8ff;\n",
       "  --sklearn-color-fitted-level-1: #d4ebff;\n",
       "  --sklearn-color-fitted-level-2: #b3dbfd;\n",
       "  --sklearn-color-fitted-level-3: cornflowerblue;\n",
       "\n",
       "  /* Specific color for light theme */\n",
       "  --sklearn-color-text-on-default-background: var(--sg-text-color, var(--theme-code-foreground, var(--jp-content-font-color1, black)));\n",
       "  --sklearn-color-background: var(--sg-background-color, var(--theme-background, var(--jp-layout-color0, white)));\n",
       "  --sklearn-color-border-box: var(--sg-text-color, var(--theme-code-foreground, var(--jp-content-font-color1, black)));\n",
       "  --sklearn-color-icon: #696969;\n",
       "\n",
       "  @media (prefers-color-scheme: dark) {\n",
       "    /* Redefinition of color scheme for dark theme */\n",
       "    --sklearn-color-text-on-default-background: var(--sg-text-color, var(--theme-code-foreground, var(--jp-content-font-color1, white)));\n",
       "    --sklearn-color-background: var(--sg-background-color, var(--theme-background, var(--jp-layout-color0, #111)));\n",
       "    --sklearn-color-border-box: var(--sg-text-color, var(--theme-code-foreground, var(--jp-content-font-color1, white)));\n",
       "    --sklearn-color-icon: #878787;\n",
       "  }\n",
       "}\n",
       "\n",
       "#sk-container-id-1 {\n",
       "  color: var(--sklearn-color-text);\n",
       "}\n",
       "\n",
       "#sk-container-id-1 pre {\n",
       "  padding: 0;\n",
       "}\n",
       "\n",
       "#sk-container-id-1 input.sk-hidden--visually {\n",
       "  border: 0;\n",
       "  clip: rect(1px 1px 1px 1px);\n",
       "  clip: rect(1px, 1px, 1px, 1px);\n",
       "  height: 1px;\n",
       "  margin: -1px;\n",
       "  overflow: hidden;\n",
       "  padding: 0;\n",
       "  position: absolute;\n",
       "  width: 1px;\n",
       "}\n",
       "\n",
       "#sk-container-id-1 div.sk-dashed-wrapped {\n",
       "  border: 1px dashed var(--sklearn-color-line);\n",
       "  margin: 0 0.4em 0.5em 0.4em;\n",
       "  box-sizing: border-box;\n",
       "  padding-bottom: 0.4em;\n",
       "  background-color: var(--sklearn-color-background);\n",
       "}\n",
       "\n",
       "#sk-container-id-1 div.sk-container {\n",
       "  /* jupyter's `normalize.less` sets `[hidden] { display: none; }`\n",
       "     but bootstrap.min.css set `[hidden] { display: none !important; }`\n",
       "     so we also need the `!important` here to be able to override the\n",
       "     default hidden behavior on the sphinx rendered scikit-learn.org.\n",
       "     See: https://github.com/scikit-learn/scikit-learn/issues/21755 */\n",
       "  display: inline-block !important;\n",
       "  position: relative;\n",
       "}\n",
       "\n",
       "#sk-container-id-1 div.sk-text-repr-fallback {\n",
       "  display: none;\n",
       "}\n",
       "\n",
       "div.sk-parallel-item,\n",
       "div.sk-serial,\n",
       "div.sk-item {\n",
       "  /* draw centered vertical line to link estimators */\n",
       "  background-image: linear-gradient(var(--sklearn-color-text-on-default-background), var(--sklearn-color-text-on-default-background));\n",
       "  background-size: 2px 100%;\n",
       "  background-repeat: no-repeat;\n",
       "  background-position: center center;\n",
       "}\n",
       "\n",
       "/* Parallel-specific style estimator block */\n",
       "\n",
       "#sk-container-id-1 div.sk-parallel-item::after {\n",
       "  content: \"\";\n",
       "  width: 100%;\n",
       "  border-bottom: 2px solid var(--sklearn-color-text-on-default-background);\n",
       "  flex-grow: 1;\n",
       "}\n",
       "\n",
       "#sk-container-id-1 div.sk-parallel {\n",
       "  display: flex;\n",
       "  align-items: stretch;\n",
       "  justify-content: center;\n",
       "  background-color: var(--sklearn-color-background);\n",
       "  position: relative;\n",
       "}\n",
       "\n",
       "#sk-container-id-1 div.sk-parallel-item {\n",
       "  display: flex;\n",
       "  flex-direction: column;\n",
       "}\n",
       "\n",
       "#sk-container-id-1 div.sk-parallel-item:first-child::after {\n",
       "  align-self: flex-end;\n",
       "  width: 50%;\n",
       "}\n",
       "\n",
       "#sk-container-id-1 div.sk-parallel-item:last-child::after {\n",
       "  align-self: flex-start;\n",
       "  width: 50%;\n",
       "}\n",
       "\n",
       "#sk-container-id-1 div.sk-parallel-item:only-child::after {\n",
       "  width: 0;\n",
       "}\n",
       "\n",
       "/* Serial-specific style estimator block */\n",
       "\n",
       "#sk-container-id-1 div.sk-serial {\n",
       "  display: flex;\n",
       "  flex-direction: column;\n",
       "  align-items: center;\n",
       "  background-color: var(--sklearn-color-background);\n",
       "  padding-right: 1em;\n",
       "  padding-left: 1em;\n",
       "}\n",
       "\n",
       "\n",
       "/* Toggleable style: style used for estimator/Pipeline/ColumnTransformer box that is\n",
       "clickable and can be expanded/collapsed.\n",
       "- Pipeline and ColumnTransformer use this feature and define the default style\n",
       "- Estimators will overwrite some part of the style using the `sk-estimator` class\n",
       "*/\n",
       "\n",
       "/* Pipeline and ColumnTransformer style (default) */\n",
       "\n",
       "#sk-container-id-1 div.sk-toggleable {\n",
       "  /* Default theme specific background. It is overwritten whether we have a\n",
       "  specific estimator or a Pipeline/ColumnTransformer */\n",
       "  background-color: var(--sklearn-color-background);\n",
       "}\n",
       "\n",
       "/* Toggleable label */\n",
       "#sk-container-id-1 label.sk-toggleable__label {\n",
       "  cursor: pointer;\n",
       "  display: block;\n",
       "  width: 100%;\n",
       "  margin-bottom: 0;\n",
       "  padding: 0.5em;\n",
       "  box-sizing: border-box;\n",
       "  text-align: center;\n",
       "}\n",
       "\n",
       "#sk-container-id-1 label.sk-toggleable__label-arrow:before {\n",
       "  /* Arrow on the left of the label */\n",
       "  content: \"▸\";\n",
       "  float: left;\n",
       "  margin-right: 0.25em;\n",
       "  color: var(--sklearn-color-icon);\n",
       "}\n",
       "\n",
       "#sk-container-id-1 label.sk-toggleable__label-arrow:hover:before {\n",
       "  color: var(--sklearn-color-text);\n",
       "}\n",
       "\n",
       "/* Toggleable content - dropdown */\n",
       "\n",
       "#sk-container-id-1 div.sk-toggleable__content {\n",
       "  max-height: 0;\n",
       "  max-width: 0;\n",
       "  overflow: hidden;\n",
       "  text-align: left;\n",
       "  /* unfitted */\n",
       "  background-color: var(--sklearn-color-unfitted-level-0);\n",
       "}\n",
       "\n",
       "#sk-container-id-1 div.sk-toggleable__content.fitted {\n",
       "  /* fitted */\n",
       "  background-color: var(--sklearn-color-fitted-level-0);\n",
       "}\n",
       "\n",
       "#sk-container-id-1 div.sk-toggleable__content pre {\n",
       "  margin: 0.2em;\n",
       "  border-radius: 0.25em;\n",
       "  color: var(--sklearn-color-text);\n",
       "  /* unfitted */\n",
       "  background-color: var(--sklearn-color-unfitted-level-0);\n",
       "}\n",
       "\n",
       "#sk-container-id-1 div.sk-toggleable__content.fitted pre {\n",
       "  /* unfitted */\n",
       "  background-color: var(--sklearn-color-fitted-level-0);\n",
       "}\n",
       "\n",
       "#sk-container-id-1 input.sk-toggleable__control:checked~div.sk-toggleable__content {\n",
       "  /* Expand drop-down */\n",
       "  max-height: 200px;\n",
       "  max-width: 100%;\n",
       "  overflow: auto;\n",
       "}\n",
       "\n",
       "#sk-container-id-1 input.sk-toggleable__control:checked~label.sk-toggleable__label-arrow:before {\n",
       "  content: \"▾\";\n",
       "}\n",
       "\n",
       "/* Pipeline/ColumnTransformer-specific style */\n",
       "\n",
       "#sk-container-id-1 div.sk-label input.sk-toggleable__control:checked~label.sk-toggleable__label {\n",
       "  color: var(--sklearn-color-text);\n",
       "  background-color: var(--sklearn-color-unfitted-level-2);\n",
       "}\n",
       "\n",
       "#sk-container-id-1 div.sk-label.fitted input.sk-toggleable__control:checked~label.sk-toggleable__label {\n",
       "  background-color: var(--sklearn-color-fitted-level-2);\n",
       "}\n",
       "\n",
       "/* Estimator-specific style */\n",
       "\n",
       "/* Colorize estimator box */\n",
       "#sk-container-id-1 div.sk-estimator input.sk-toggleable__control:checked~label.sk-toggleable__label {\n",
       "  /* unfitted */\n",
       "  background-color: var(--sklearn-color-unfitted-level-2);\n",
       "}\n",
       "\n",
       "#sk-container-id-1 div.sk-estimator.fitted input.sk-toggleable__control:checked~label.sk-toggleable__label {\n",
       "  /* fitted */\n",
       "  background-color: var(--sklearn-color-fitted-level-2);\n",
       "}\n",
       "\n",
       "#sk-container-id-1 div.sk-label label.sk-toggleable__label,\n",
       "#sk-container-id-1 div.sk-label label {\n",
       "  /* The background is the default theme color */\n",
       "  color: var(--sklearn-color-text-on-default-background);\n",
       "}\n",
       "\n",
       "/* On hover, darken the color of the background */\n",
       "#sk-container-id-1 div.sk-label:hover label.sk-toggleable__label {\n",
       "  color: var(--sklearn-color-text);\n",
       "  background-color: var(--sklearn-color-unfitted-level-2);\n",
       "}\n",
       "\n",
       "/* Label box, darken color on hover, fitted */\n",
       "#sk-container-id-1 div.sk-label.fitted:hover label.sk-toggleable__label.fitted {\n",
       "  color: var(--sklearn-color-text);\n",
       "  background-color: var(--sklearn-color-fitted-level-2);\n",
       "}\n",
       "\n",
       "/* Estimator label */\n",
       "\n",
       "#sk-container-id-1 div.sk-label label {\n",
       "  font-family: monospace;\n",
       "  font-weight: bold;\n",
       "  display: inline-block;\n",
       "  line-height: 1.2em;\n",
       "}\n",
       "\n",
       "#sk-container-id-1 div.sk-label-container {\n",
       "  text-align: center;\n",
       "}\n",
       "\n",
       "/* Estimator-specific */\n",
       "#sk-container-id-1 div.sk-estimator {\n",
       "  font-family: monospace;\n",
       "  border: 1px dotted var(--sklearn-color-border-box);\n",
       "  border-radius: 0.25em;\n",
       "  box-sizing: border-box;\n",
       "  margin-bottom: 0.5em;\n",
       "  /* unfitted */\n",
       "  background-color: var(--sklearn-color-unfitted-level-0);\n",
       "}\n",
       "\n",
       "#sk-container-id-1 div.sk-estimator.fitted {\n",
       "  /* fitted */\n",
       "  background-color: var(--sklearn-color-fitted-level-0);\n",
       "}\n",
       "\n",
       "/* on hover */\n",
       "#sk-container-id-1 div.sk-estimator:hover {\n",
       "  /* unfitted */\n",
       "  background-color: var(--sklearn-color-unfitted-level-2);\n",
       "}\n",
       "\n",
       "#sk-container-id-1 div.sk-estimator.fitted:hover {\n",
       "  /* fitted */\n",
       "  background-color: var(--sklearn-color-fitted-level-2);\n",
       "}\n",
       "\n",
       "/* Specification for estimator info (e.g. \"i\" and \"?\") */\n",
       "\n",
       "/* Common style for \"i\" and \"?\" */\n",
       "\n",
       ".sk-estimator-doc-link,\n",
       "a:link.sk-estimator-doc-link,\n",
       "a:visited.sk-estimator-doc-link {\n",
       "  float: right;\n",
       "  font-size: smaller;\n",
       "  line-height: 1em;\n",
       "  font-family: monospace;\n",
       "  background-color: var(--sklearn-color-background);\n",
       "  border-radius: 1em;\n",
       "  height: 1em;\n",
       "  width: 1em;\n",
       "  text-decoration: none !important;\n",
       "  margin-left: 1ex;\n",
       "  /* unfitted */\n",
       "  border: var(--sklearn-color-unfitted-level-1) 1pt solid;\n",
       "  color: var(--sklearn-color-unfitted-level-1);\n",
       "}\n",
       "\n",
       ".sk-estimator-doc-link.fitted,\n",
       "a:link.sk-estimator-doc-link.fitted,\n",
       "a:visited.sk-estimator-doc-link.fitted {\n",
       "  /* fitted */\n",
       "  border: var(--sklearn-color-fitted-level-1) 1pt solid;\n",
       "  color: var(--sklearn-color-fitted-level-1);\n",
       "}\n",
       "\n",
       "/* On hover */\n",
       "div.sk-estimator:hover .sk-estimator-doc-link:hover,\n",
       ".sk-estimator-doc-link:hover,\n",
       "div.sk-label-container:hover .sk-estimator-doc-link:hover,\n",
       ".sk-estimator-doc-link:hover {\n",
       "  /* unfitted */\n",
       "  background-color: var(--sklearn-color-unfitted-level-3);\n",
       "  color: var(--sklearn-color-background);\n",
       "  text-decoration: none;\n",
       "}\n",
       "\n",
       "div.sk-estimator.fitted:hover .sk-estimator-doc-link.fitted:hover,\n",
       ".sk-estimator-doc-link.fitted:hover,\n",
       "div.sk-label-container:hover .sk-estimator-doc-link.fitted:hover,\n",
       ".sk-estimator-doc-link.fitted:hover {\n",
       "  /* fitted */\n",
       "  background-color: var(--sklearn-color-fitted-level-3);\n",
       "  color: var(--sklearn-color-background);\n",
       "  text-decoration: none;\n",
       "}\n",
       "\n",
       "/* Span, style for the box shown on hovering the info icon */\n",
       ".sk-estimator-doc-link span {\n",
       "  display: none;\n",
       "  z-index: 9999;\n",
       "  position: relative;\n",
       "  font-weight: normal;\n",
       "  right: .2ex;\n",
       "  padding: .5ex;\n",
       "  margin: .5ex;\n",
       "  width: min-content;\n",
       "  min-width: 20ex;\n",
       "  max-width: 50ex;\n",
       "  color: var(--sklearn-color-text);\n",
       "  box-shadow: 2pt 2pt 4pt #999;\n",
       "  /* unfitted */\n",
       "  background: var(--sklearn-color-unfitted-level-0);\n",
       "  border: .5pt solid var(--sklearn-color-unfitted-level-3);\n",
       "}\n",
       "\n",
       ".sk-estimator-doc-link.fitted span {\n",
       "  /* fitted */\n",
       "  background: var(--sklearn-color-fitted-level-0);\n",
       "  border: var(--sklearn-color-fitted-level-3);\n",
       "}\n",
       "\n",
       ".sk-estimator-doc-link:hover span {\n",
       "  display: block;\n",
       "}\n",
       "\n",
       "/* \"?\"-specific style due to the `<a>` HTML tag */\n",
       "\n",
       "#sk-container-id-1 a.estimator_doc_link {\n",
       "  float: right;\n",
       "  font-size: 1rem;\n",
       "  line-height: 1em;\n",
       "  font-family: monospace;\n",
       "  background-color: var(--sklearn-color-background);\n",
       "  border-radius: 1rem;\n",
       "  height: 1rem;\n",
       "  width: 1rem;\n",
       "  text-decoration: none;\n",
       "  /* unfitted */\n",
       "  color: var(--sklearn-color-unfitted-level-1);\n",
       "  border: var(--sklearn-color-unfitted-level-1) 1pt solid;\n",
       "}\n",
       "\n",
       "#sk-container-id-1 a.estimator_doc_link.fitted {\n",
       "  /* fitted */\n",
       "  border: var(--sklearn-color-fitted-level-1) 1pt solid;\n",
       "  color: var(--sklearn-color-fitted-level-1);\n",
       "}\n",
       "\n",
       "/* On hover */\n",
       "#sk-container-id-1 a.estimator_doc_link:hover {\n",
       "  /* unfitted */\n",
       "  background-color: var(--sklearn-color-unfitted-level-3);\n",
       "  color: var(--sklearn-color-background);\n",
       "  text-decoration: none;\n",
       "}\n",
       "\n",
       "#sk-container-id-1 a.estimator_doc_link.fitted:hover {\n",
       "  /* fitted */\n",
       "  background-color: var(--sklearn-color-fitted-level-3);\n",
       "}\n",
       "</style><div id=\"sk-container-id-1\" class=\"sk-top-container\"><div class=\"sk-text-repr-fallback\"><pre>LGBMClassifier(class_weight=&#x27;balanced&#x27;, objective=&#x27;binary&#x27;, random_state=0,\n",
       "               verbose=-1)</pre><b>In a Jupyter environment, please rerun this cell to show the HTML representation or trust the notebook. <br />On GitHub, the HTML representation is unable to render, please try loading this page with nbviewer.org.</b></div><div class=\"sk-container\" hidden><div class=\"sk-item\"><div class=\"sk-estimator  sk-toggleable\"><input class=\"sk-toggleable__control sk-hidden--visually\" id=\"sk-estimator-id-1\" type=\"checkbox\" checked><label for=\"sk-estimator-id-1\" class=\"sk-toggleable__label  sk-toggleable__label-arrow \">&nbsp;LGBMClassifier<span class=\"sk-estimator-doc-link \">i<span>Not fitted</span></span></label><div class=\"sk-toggleable__content \"><pre>LGBMClassifier(class_weight=&#x27;balanced&#x27;, objective=&#x27;binary&#x27;, random_state=0,\n",
       "               verbose=-1)</pre></div> </div></div></div></div>"
      ],
      "text/plain": [
       "LGBMClassifier(class_weight='balanced', objective='binary', random_state=0,\n",
       "               verbose=-1)"
      ]
     },
     "execution_count": 26,
     "metadata": {},
     "output_type": "execute_result"
    }
   ],
   "source": [
    "# Applying class weight does not alter the original dataset, avoiding the introduction of synthetic data.\n",
    "lgbmc_cw = LGBMClassifier(\n",
    "    objective='binary',\n",
    "    class_weight='balanced',  # We balance by adjusting the class weights.\n",
    "    verbose=-1,\n",
    "    random_state=0\n",
    ")\n",
    "\n",
    "lgbmc_cw"
   ]
  },
  {
   "cell_type": "code",
   "execution_count": 27,
   "id": "98b4fe4e-4ba4-47f8-8427-4ff177abddde",
   "metadata": {
    "execution": {
     "iopub.execute_input": "2024-05-17T20:05:12.924091Z",
     "iopub.status.busy": "2024-05-17T20:05:12.924091Z",
     "iopub.status.idle": "2024-05-17T20:05:21.741889Z",
     "shell.execute_reply": "2024-05-17T20:05:21.740877Z",
     "shell.execute_reply.started": "2024-05-17T20:05:12.924091Z"
    }
   },
   "outputs": [
    {
     "name": "stdout",
     "output_type": "stream",
     "text": [
      "\u001b[1mLGBMClassifier_rus_smote \u001b[0m : shape=(110596, 25) | accuracy=0.819 (0.003) | roc_auc=0.859 (0.003) | f1=0.692 (0.007) | precision=0.930 (0.004) | recall=0.551 (0.008)\n",
      "\n",
      "\u001b[1mLGBMClassifier_cw        \u001b[0m : shape=(159802, 25) | accuracy=0.647 (0.003) | roc_auc=0.725 (0.003) | f1=0.334 (0.004) | precision=0.220 (0.003) | recall=0.691 (0.009)\n",
      "\n"
     ]
    }
   ],
   "source": [
    "# Creamos tuplas:\n",
    "tuplas = [\n",
    "    (\"LGBMClassifier_rus_smote\", lgbmc, X_best25_rus_smote, y_train_rus_smote),\n",
    "    (\"LGBMClassifier_cw\", lgbmc_cw, X_best25, y_train)\n",
    "]\n",
    "\n",
    "for name, model, X_train, y_train in tuplas:\n",
    "    dict_cv = cross_validate(\n",
    "        estimator=model,\n",
    "        X=X_train, # We use the subset with the top 25 predictors.\n",
    "        y=y_train,\n",
    "        scoring=['accuracy', 'roc_auc', 'f1', 'precision', 'recall'],\n",
    "        cv=kfold_strat,\n",
    "        n_jobs=-1,\n",
    "        verbose=0,        \n",
    "    )\n",
    "\n",
    "    print(\n",
    "        f\"\\033[1m{name.ljust(25)}\\033[0m\",                                                                 \n",
    "        f\": shape={X_train.shape}\",                                                                \n",
    "        f\"| accuracy={np.mean(dict_cv['test_accuracy']):.3f} ({np.std(dict_cv['test_accuracy']):.3f})\",                                               \n",
    "        f\"| roc_auc={np.mean(dict_cv['test_roc_auc']):.3f} ({np.std(dict_cv['test_roc_auc']):.3f})\",     \n",
    "        f\"| f1={np.mean(dict_cv['test_f1']):.3f} ({np.std(dict_cv['test_f1']):.3f})\",                      \n",
    "        f\"| precision={np.mean(dict_cv['test_precision']):.3f} ({np.std(dict_cv['test_precision']):.3f})\",\n",
    "        f\"| recall={np.mean(dict_cv['test_recall']):.3f} ({np.std(dict_cv['test_recall']):.3f})\",                 \n",
    "    )\n",
    "    print()"
   ]
  },
  {
   "cell_type": "markdown",
   "id": "c0a3fbd8-53fe-435f-b052-56250b767d76",
   "metadata": {},
   "source": [
    "Observations:\n",
    "- At first glance, it seems that the combined resampling technique of RUS & SMOTE generates better results with a roc_auc of 0.859 > 0.725. However, we cannot rely too much on cross-validation since, in addition to reducing **the sample in the majority class, we have created '20463*2' synthetic samples of the minority class with SMOTE**. The result is subject to generalization bias and overfitting.\n",
    "\n",
    "- Regarding **the class weights adjustment technique, it is much simpler to implement and does not generate synthetic samples**. With LGBM, balancing the class weights has achieved an *increase in recall for the positive class from 0.006 to 0.691* although with its inevitable loss of precision and accuracy (increase in false positives).\n",
    "- Therefore, **we will evaluate it in the Performance Evaluation section**.\n"
   ]
  },
  {
   "cell_type": "markdown",
   "id": "cb4414c4-03a9-4a78-b5db-445d091db4d8",
   "metadata": {},
   "source": [
    "<a id=tuning><a />\n",
    "# Hyperparameter Tunning"
   ]
  },
  {
   "cell_type": "code",
   "execution_count": 32,
   "id": "bed61020-6ef8-48a6-9ec6-9c36e0612026",
   "metadata": {
    "execution": {
     "iopub.execute_input": "2024-05-17T20:28:23.496491Z",
     "iopub.status.busy": "2024-05-17T20:28:23.496491Z",
     "iopub.status.idle": "2024-05-17T20:44:30.657941Z",
     "shell.execute_reply": "2024-05-17T20:44:30.656921Z",
     "shell.execute_reply.started": "2024-05-17T20:28:23.496491Z"
    }
   },
   "outputs": [
    {
     "name": "stdout",
     "output_type": "stream",
     "text": [
      "Fitting 5 folds for each of 50 candidates, totalling 250 fits\n"
     ]
    },
    {
     "data": {
      "text/html": [
       "<div>\n",
       "<style scoped>\n",
       "    .dataframe tbody tr th:only-of-type {\n",
       "        vertical-align: middle;\n",
       "    }\n",
       "\n",
       "    .dataframe tbody tr th {\n",
       "        vertical-align: top;\n",
       "    }\n",
       "\n",
       "    .dataframe thead th {\n",
       "        text-align: right;\n",
       "    }\n",
       "</style>\n",
       "<table border=\"1\" class=\"dataframe\">\n",
       "  <thead>\n",
       "    <tr style=\"text-align: right;\">\n",
       "      <th></th>\n",
       "      <th>param_learning_rate</th>\n",
       "      <th>param_n_estimators</th>\n",
       "      <th>mean_test_score</th>\n",
       "      <th>std_test_score</th>\n",
       "      <th>rank_test_score</th>\n",
       "      <th>mean_fit_time</th>\n",
       "    </tr>\n",
       "  </thead>\n",
       "  <tbody>\n",
       "    <tr>\n",
       "      <th>12</th>\n",
       "      <td>0.028947</td>\n",
       "      <td>200</td>\n",
       "      <td>0.724746</td>\n",
       "      <td>0.002611</td>\n",
       "      <td>1</td>\n",
       "      <td>67.382458</td>\n",
       "    </tr>\n",
       "    <tr>\n",
       "      <th>17</th>\n",
       "      <td>0.043158</td>\n",
       "      <td>150</td>\n",
       "      <td>0.724697</td>\n",
       "      <td>0.002317</td>\n",
       "      <td>2</td>\n",
       "      <td>48.694053</td>\n",
       "    </tr>\n",
       "    <tr>\n",
       "      <th>14</th>\n",
       "      <td>0.033684</td>\n",
       "      <td>200</td>\n",
       "      <td>0.724684</td>\n",
       "      <td>0.002639</td>\n",
       "      <td>3</td>\n",
       "      <td>69.082933</td>\n",
       "    </tr>\n",
       "    <tr>\n",
       "      <th>6</th>\n",
       "      <td>0.052632</td>\n",
       "      <td>100</td>\n",
       "      <td>0.724607</td>\n",
       "      <td>0.002472</td>\n",
       "      <td>4</td>\n",
       "      <td>32.521449</td>\n",
       "    </tr>\n",
       "    <tr>\n",
       "      <th>23</th>\n",
       "      <td>0.038421</td>\n",
       "      <td>150</td>\n",
       "      <td>0.724572</td>\n",
       "      <td>0.002623</td>\n",
       "      <td>5</td>\n",
       "      <td>49.099674</td>\n",
       "    </tr>\n",
       "    <tr>\n",
       "      <th>11</th>\n",
       "      <td>0.047895</td>\n",
       "      <td>150</td>\n",
       "      <td>0.724547</td>\n",
       "      <td>0.002747</td>\n",
       "      <td>6</td>\n",
       "      <td>53.601740</td>\n",
       "    </tr>\n",
       "    <tr>\n",
       "      <th>33</th>\n",
       "      <td>0.066842</td>\n",
       "      <td>100</td>\n",
       "      <td>0.724546</td>\n",
       "      <td>0.002689</td>\n",
       "      <td>7</td>\n",
       "      <td>39.680203</td>\n",
       "    </tr>\n",
       "    <tr>\n",
       "      <th>3</th>\n",
       "      <td>0.033684</td>\n",
       "      <td>150</td>\n",
       "      <td>0.724522</td>\n",
       "      <td>0.002879</td>\n",
       "      <td>8</td>\n",
       "      <td>6.891841</td>\n",
       "    </tr>\n",
       "    <tr>\n",
       "      <th>22</th>\n",
       "      <td>0.043158</td>\n",
       "      <td>200</td>\n",
       "      <td>0.724503</td>\n",
       "      <td>0.002248</td>\n",
       "      <td>9</td>\n",
       "      <td>62.625844</td>\n",
       "    </tr>\n",
       "    <tr>\n",
       "      <th>19</th>\n",
       "      <td>0.062105</td>\n",
       "      <td>100</td>\n",
       "      <td>0.724495</td>\n",
       "      <td>0.003226</td>\n",
       "      <td>10</td>\n",
       "      <td>31.933148</td>\n",
       "    </tr>\n",
       "    <tr>\n",
       "      <th>5</th>\n",
       "      <td>0.024211</td>\n",
       "      <td>200</td>\n",
       "      <td>0.724432</td>\n",
       "      <td>0.002986</td>\n",
       "      <td>11</td>\n",
       "      <td>61.234630</td>\n",
       "    </tr>\n",
       "    <tr>\n",
       "      <th>7</th>\n",
       "      <td>0.047895</td>\n",
       "      <td>100</td>\n",
       "      <td>0.724424</td>\n",
       "      <td>0.002933</td>\n",
       "      <td>12</td>\n",
       "      <td>38.193563</td>\n",
       "    </tr>\n",
       "    <tr>\n",
       "      <th>2</th>\n",
       "      <td>0.057368</td>\n",
       "      <td>150</td>\n",
       "      <td>0.724381</td>\n",
       "      <td>0.002559</td>\n",
       "      <td>13</td>\n",
       "      <td>6.685591</td>\n",
       "    </tr>\n",
       "    <tr>\n",
       "      <th>41</th>\n",
       "      <td>0.081053</td>\n",
       "      <td>100</td>\n",
       "      <td>0.724308</td>\n",
       "      <td>0.002726</td>\n",
       "      <td>14</td>\n",
       "      <td>33.092678</td>\n",
       "    </tr>\n",
       "    <tr>\n",
       "      <th>44</th>\n",
       "      <td>0.047895</td>\n",
       "      <td>200</td>\n",
       "      <td>0.724257</td>\n",
       "      <td>0.002638</td>\n",
       "      <td>15</td>\n",
       "      <td>66.955315</td>\n",
       "    </tr>\n",
       "    <tr>\n",
       "      <th>40</th>\n",
       "      <td>0.085789</td>\n",
       "      <td>100</td>\n",
       "      <td>0.724224</td>\n",
       "      <td>0.002451</td>\n",
       "      <td>16</td>\n",
       "      <td>32.103537</td>\n",
       "    </tr>\n",
       "    <tr>\n",
       "      <th>49</th>\n",
       "      <td>0.052632</td>\n",
       "      <td>200</td>\n",
       "      <td>0.724067</td>\n",
       "      <td>0.002413</td>\n",
       "      <td>17</td>\n",
       "      <td>33.922814</td>\n",
       "    </tr>\n",
       "    <tr>\n",
       "      <th>16</th>\n",
       "      <td>0.071579</td>\n",
       "      <td>150</td>\n",
       "      <td>0.723973</td>\n",
       "      <td>0.003140</td>\n",
       "      <td>18</td>\n",
       "      <td>46.631211</td>\n",
       "    </tr>\n",
       "    <tr>\n",
       "      <th>21</th>\n",
       "      <td>0.043158</td>\n",
       "      <td>100</td>\n",
       "      <td>0.723901</td>\n",
       "      <td>0.002573</td>\n",
       "      <td>19</td>\n",
       "      <td>33.174163</td>\n",
       "    </tr>\n",
       "    <tr>\n",
       "      <th>48</th>\n",
       "      <td>0.062105</td>\n",
       "      <td>150</td>\n",
       "      <td>0.723899</td>\n",
       "      <td>0.003029</td>\n",
       "      <td>20</td>\n",
       "      <td>45.228724</td>\n",
       "    </tr>\n",
       "    <tr>\n",
       "      <th>25</th>\n",
       "      <td>0.076316</td>\n",
       "      <td>100</td>\n",
       "      <td>0.723812</td>\n",
       "      <td>0.002624</td>\n",
       "      <td>21</td>\n",
       "      <td>31.889473</td>\n",
       "    </tr>\n",
       "    <tr>\n",
       "      <th>0</th>\n",
       "      <td>0.090526</td>\n",
       "      <td>100</td>\n",
       "      <td>0.723476</td>\n",
       "      <td>0.002594</td>\n",
       "      <td>22</td>\n",
       "      <td>4.198768</td>\n",
       "    </tr>\n",
       "    <tr>\n",
       "      <th>8</th>\n",
       "      <td>0.095263</td>\n",
       "      <td>100</td>\n",
       "      <td>0.723452</td>\n",
       "      <td>0.002363</td>\n",
       "      <td>23</td>\n",
       "      <td>35.859233</td>\n",
       "    </tr>\n",
       "    <tr>\n",
       "      <th>9</th>\n",
       "      <td>0.019474</td>\n",
       "      <td>200</td>\n",
       "      <td>0.723413</td>\n",
       "      <td>0.002823</td>\n",
       "      <td>24</td>\n",
       "      <td>75.500392</td>\n",
       "    </tr>\n",
       "    <tr>\n",
       "      <th>43</th>\n",
       "      <td>0.1</td>\n",
       "      <td>100</td>\n",
       "      <td>0.723405</td>\n",
       "      <td>0.002473</td>\n",
       "      <td>25</td>\n",
       "      <td>28.735071</td>\n",
       "    </tr>\n",
       "    <tr>\n",
       "      <th>4</th>\n",
       "      <td>0.071579</td>\n",
       "      <td>200</td>\n",
       "      <td>0.723345</td>\n",
       "      <td>0.002975</td>\n",
       "      <td>26</td>\n",
       "      <td>24.289675</td>\n",
       "    </tr>\n",
       "    <tr>\n",
       "      <th>30</th>\n",
       "      <td>0.062105</td>\n",
       "      <td>200</td>\n",
       "      <td>0.723234</td>\n",
       "      <td>0.002937</td>\n",
       "      <td>27</td>\n",
       "      <td>59.266399</td>\n",
       "    </tr>\n",
       "    <tr>\n",
       "      <th>27</th>\n",
       "      <td>0.024211</td>\n",
       "      <td>150</td>\n",
       "      <td>0.723111</td>\n",
       "      <td>0.002923</td>\n",
       "      <td>28</td>\n",
       "      <td>53.016623</td>\n",
       "    </tr>\n",
       "    <tr>\n",
       "      <th>36</th>\n",
       "      <td>0.038421</td>\n",
       "      <td>100</td>\n",
       "      <td>0.723038</td>\n",
       "      <td>0.002758</td>\n",
       "      <td>29</td>\n",
       "      <td>37.668123</td>\n",
       "    </tr>\n",
       "    <tr>\n",
       "      <th>18</th>\n",
       "      <td>0.066842</td>\n",
       "      <td>200</td>\n",
       "      <td>0.723030</td>\n",
       "      <td>0.002888</td>\n",
       "      <td>30</td>\n",
       "      <td>61.381312</td>\n",
       "    </tr>\n",
       "    <tr>\n",
       "      <th>35</th>\n",
       "      <td>0.076316</td>\n",
       "      <td>150</td>\n",
       "      <td>0.722999</td>\n",
       "      <td>0.002546</td>\n",
       "      <td>31</td>\n",
       "      <td>49.666603</td>\n",
       "    </tr>\n",
       "    <tr>\n",
       "      <th>42</th>\n",
       "      <td>0.095263</td>\n",
       "      <td>150</td>\n",
       "      <td>0.722957</td>\n",
       "      <td>0.002418</td>\n",
       "      <td>32</td>\n",
       "      <td>47.339492</td>\n",
       "    </tr>\n",
       "    <tr>\n",
       "      <th>45</th>\n",
       "      <td>0.033684</td>\n",
       "      <td>100</td>\n",
       "      <td>0.722748</td>\n",
       "      <td>0.002788</td>\n",
       "      <td>33</td>\n",
       "      <td>35.107543</td>\n",
       "    </tr>\n",
       "    <tr>\n",
       "      <th>13</th>\n",
       "      <td>0.081053</td>\n",
       "      <td>200</td>\n",
       "      <td>0.722640</td>\n",
       "      <td>0.003153</td>\n",
       "      <td>34</td>\n",
       "      <td>61.482200</td>\n",
       "    </tr>\n",
       "    <tr>\n",
       "      <th>1</th>\n",
       "      <td>0.090526</td>\n",
       "      <td>150</td>\n",
       "      <td>0.722538</td>\n",
       "      <td>0.002625</td>\n",
       "      <td>35</td>\n",
       "      <td>5.813222</td>\n",
       "    </tr>\n",
       "    <tr>\n",
       "      <th>20</th>\n",
       "      <td>0.076316</td>\n",
       "      <td>200</td>\n",
       "      <td>0.722321</td>\n",
       "      <td>0.002800</td>\n",
       "      <td>36</td>\n",
       "      <td>61.329381</td>\n",
       "    </tr>\n",
       "    <tr>\n",
       "      <th>26</th>\n",
       "      <td>0.019474</td>\n",
       "      <td>150</td>\n",
       "      <td>0.722162</td>\n",
       "      <td>0.002689</td>\n",
       "      <td>37</td>\n",
       "      <td>52.506685</td>\n",
       "    </tr>\n",
       "    <tr>\n",
       "      <th>39</th>\n",
       "      <td>0.085789</td>\n",
       "      <td>200</td>\n",
       "      <td>0.722074</td>\n",
       "      <td>0.002423</td>\n",
       "      <td>38</td>\n",
       "      <td>59.412123</td>\n",
       "    </tr>\n",
       "    <tr>\n",
       "      <th>31</th>\n",
       "      <td>0.014737</td>\n",
       "      <td>200</td>\n",
       "      <td>0.722066</td>\n",
       "      <td>0.002786</td>\n",
       "      <td>39</td>\n",
       "      <td>71.280857</td>\n",
       "    </tr>\n",
       "    <tr>\n",
       "      <th>10</th>\n",
       "      <td>0.028947</td>\n",
       "      <td>100</td>\n",
       "      <td>0.721961</td>\n",
       "      <td>0.002669</td>\n",
       "      <td>40</td>\n",
       "      <td>36.779155</td>\n",
       "    </tr>\n",
       "    <tr>\n",
       "      <th>24</th>\n",
       "      <td>0.095263</td>\n",
       "      <td>200</td>\n",
       "      <td>0.721847</td>\n",
       "      <td>0.002415</td>\n",
       "      <td>41</td>\n",
       "      <td>62.092131</td>\n",
       "    </tr>\n",
       "    <tr>\n",
       "      <th>29</th>\n",
       "      <td>0.090526</td>\n",
       "      <td>200</td>\n",
       "      <td>0.721723</td>\n",
       "      <td>0.002521</td>\n",
       "      <td>42</td>\n",
       "      <td>55.252753</td>\n",
       "    </tr>\n",
       "    <tr>\n",
       "      <th>28</th>\n",
       "      <td>0.1</td>\n",
       "      <td>200</td>\n",
       "      <td>0.721203</td>\n",
       "      <td>0.003103</td>\n",
       "      <td>43</td>\n",
       "      <td>56.472305</td>\n",
       "    </tr>\n",
       "    <tr>\n",
       "      <th>47</th>\n",
       "      <td>0.024211</td>\n",
       "      <td>100</td>\n",
       "      <td>0.721103</td>\n",
       "      <td>0.002555</td>\n",
       "      <td>44</td>\n",
       "      <td>39.359661</td>\n",
       "    </tr>\n",
       "    <tr>\n",
       "      <th>34</th>\n",
       "      <td>0.014737</td>\n",
       "      <td>150</td>\n",
       "      <td>0.720406</td>\n",
       "      <td>0.002464</td>\n",
       "      <td>45</td>\n",
       "      <td>57.093343</td>\n",
       "    </tr>\n",
       "    <tr>\n",
       "      <th>37</th>\n",
       "      <td>0.01</td>\n",
       "      <td>200</td>\n",
       "      <td>0.719890</td>\n",
       "      <td>0.002410</td>\n",
       "      <td>46</td>\n",
       "      <td>74.030577</td>\n",
       "    </tr>\n",
       "    <tr>\n",
       "      <th>32</th>\n",
       "      <td>0.019474</td>\n",
       "      <td>100</td>\n",
       "      <td>0.719697</td>\n",
       "      <td>0.002323</td>\n",
       "      <td>47</td>\n",
       "      <td>36.293027</td>\n",
       "    </tr>\n",
       "    <tr>\n",
       "      <th>46</th>\n",
       "      <td>0.01</td>\n",
       "      <td>150</td>\n",
       "      <td>0.718240</td>\n",
       "      <td>0.002345</td>\n",
       "      <td>48</td>\n",
       "      <td>56.540011</td>\n",
       "    </tr>\n",
       "    <tr>\n",
       "      <th>15</th>\n",
       "      <td>0.014737</td>\n",
       "      <td>100</td>\n",
       "      <td>0.718087</td>\n",
       "      <td>0.002271</td>\n",
       "      <td>49</td>\n",
       "      <td>35.385487</td>\n",
       "    </tr>\n",
       "    <tr>\n",
       "      <th>38</th>\n",
       "      <td>0.01</td>\n",
       "      <td>100</td>\n",
       "      <td>0.716088</td>\n",
       "      <td>0.002032</td>\n",
       "      <td>50</td>\n",
       "      <td>36.939621</td>\n",
       "    </tr>\n",
       "  </tbody>\n",
       "</table>\n",
       "</div>"
      ],
      "text/plain": [
       "   param_learning_rate param_n_estimators  mean_test_score  std_test_score  \\\n",
       "12            0.028947                200         0.724746        0.002611   \n",
       "17            0.043158                150         0.724697        0.002317   \n",
       "14            0.033684                200         0.724684        0.002639   \n",
       "6             0.052632                100         0.724607        0.002472   \n",
       "23            0.038421                150         0.724572        0.002623   \n",
       "11            0.047895                150         0.724547        0.002747   \n",
       "33            0.066842                100         0.724546        0.002689   \n",
       "3             0.033684                150         0.724522        0.002879   \n",
       "22            0.043158                200         0.724503        0.002248   \n",
       "19            0.062105                100         0.724495        0.003226   \n",
       "5             0.024211                200         0.724432        0.002986   \n",
       "7             0.047895                100         0.724424        0.002933   \n",
       "2             0.057368                150         0.724381        0.002559   \n",
       "41            0.081053                100         0.724308        0.002726   \n",
       "44            0.047895                200         0.724257        0.002638   \n",
       "40            0.085789                100         0.724224        0.002451   \n",
       "49            0.052632                200         0.724067        0.002413   \n",
       "16            0.071579                150         0.723973        0.003140   \n",
       "21            0.043158                100         0.723901        0.002573   \n",
       "48            0.062105                150         0.723899        0.003029   \n",
       "25            0.076316                100         0.723812        0.002624   \n",
       "0             0.090526                100         0.723476        0.002594   \n",
       "8             0.095263                100         0.723452        0.002363   \n",
       "9             0.019474                200         0.723413        0.002823   \n",
       "43                 0.1                100         0.723405        0.002473   \n",
       "4             0.071579                200         0.723345        0.002975   \n",
       "30            0.062105                200         0.723234        0.002937   \n",
       "27            0.024211                150         0.723111        0.002923   \n",
       "36            0.038421                100         0.723038        0.002758   \n",
       "18            0.066842                200         0.723030        0.002888   \n",
       "35            0.076316                150         0.722999        0.002546   \n",
       "42            0.095263                150         0.722957        0.002418   \n",
       "45            0.033684                100         0.722748        0.002788   \n",
       "13            0.081053                200         0.722640        0.003153   \n",
       "1             0.090526                150         0.722538        0.002625   \n",
       "20            0.076316                200         0.722321        0.002800   \n",
       "26            0.019474                150         0.722162        0.002689   \n",
       "39            0.085789                200         0.722074        0.002423   \n",
       "31            0.014737                200         0.722066        0.002786   \n",
       "10            0.028947                100         0.721961        0.002669   \n",
       "24            0.095263                200         0.721847        0.002415   \n",
       "29            0.090526                200         0.721723        0.002521   \n",
       "28                 0.1                200         0.721203        0.003103   \n",
       "47            0.024211                100         0.721103        0.002555   \n",
       "34            0.014737                150         0.720406        0.002464   \n",
       "37                0.01                200         0.719890        0.002410   \n",
       "32            0.019474                100         0.719697        0.002323   \n",
       "46                0.01                150         0.718240        0.002345   \n",
       "15            0.014737                100         0.718087        0.002271   \n",
       "38                0.01                100         0.716088        0.002032   \n",
       "\n",
       "    rank_test_score  mean_fit_time  \n",
       "12                1      67.382458  \n",
       "17                2      48.694053  \n",
       "14                3      69.082933  \n",
       "6                 4      32.521449  \n",
       "23                5      49.099674  \n",
       "11                6      53.601740  \n",
       "33                7      39.680203  \n",
       "3                 8       6.891841  \n",
       "22                9      62.625844  \n",
       "19               10      31.933148  \n",
       "5                11      61.234630  \n",
       "7                12      38.193563  \n",
       "2                13       6.685591  \n",
       "41               14      33.092678  \n",
       "44               15      66.955315  \n",
       "40               16      32.103537  \n",
       "49               17      33.922814  \n",
       "16               18      46.631211  \n",
       "21               19      33.174163  \n",
       "48               20      45.228724  \n",
       "25               21      31.889473  \n",
       "0                22       4.198768  \n",
       "8                23      35.859233  \n",
       "9                24      75.500392  \n",
       "43               25      28.735071  \n",
       "4                26      24.289675  \n",
       "30               27      59.266399  \n",
       "27               28      53.016623  \n",
       "36               29      37.668123  \n",
       "18               30      61.381312  \n",
       "35               31      49.666603  \n",
       "42               32      47.339492  \n",
       "45               33      35.107543  \n",
       "13               34      61.482200  \n",
       "1                35       5.813222  \n",
       "20               36      61.329381  \n",
       "26               37      52.506685  \n",
       "39               38      59.412123  \n",
       "31               39      71.280857  \n",
       "10               40      36.779155  \n",
       "24               41      62.092131  \n",
       "29               42      55.252753  \n",
       "28               43      56.472305  \n",
       "47               44      39.359661  \n",
       "34               45      57.093343  \n",
       "37               46      74.030577  \n",
       "32               47      36.293027  \n",
       "46               48      56.540011  \n",
       "15               49      35.385487  \n",
       "38               50      36.939621  "
      ]
     },
     "execution_count": 32,
     "metadata": {},
     "output_type": "execute_result"
    }
   ],
   "source": [
    "from lightgbm import LGBMClassifier\n",
    "from sklearn.model_selection import RandomizedSearchCV\n",
    "\n",
    "lgbmc_cw = LGBMClassifier(\n",
    "    objective='binary',\n",
    "    verbose=-1,\n",
    "    random_state=0,\n",
    "    class_weight='balanced'\n",
    ")\n",
    "\n",
    "param_grid_lgbmc = {\n",
    "    'learning_rate': np.linspace(0.01, 0.1, 20),  # step size shrinkage.\n",
    "    'n_estimators': [100, 150, 200],      # number of boosted trees to fit.\n",
    "}\n",
    "\n",
    "kfold_strat = StratifiedKFold(n_splits=5, shuffle=True, random_state=0)\n",
    "\n",
    "rd_search_lgbmc = RandomizedSearchCV(\n",
    "    estimator=lgbmc_cw,\n",
    "    param_distributions=param_grid_lgbmc,\n",
    "    n_iter=50,  # Change this!\n",
    "    scoring='roc_auc',\n",
    "    n_jobs=-1,\n",
    "    refit=True,\n",
    "    cv=kfold_strat,\n",
    "    verbose=1,\n",
    ")\n",
    "\n",
    "# Entrenar los 50 modelos aleatorios (250 fits):\n",
    "rd_search_lgbmc.fit(X_best25, y_train)\n",
    "\n",
    "# Generar df de los resultados ordenados por ranking de mean roc_auc:\n",
    "df_rd_search_lgbmc = pd.DataFrame(data=rd_search_lgbmc.cv_results_)[[\n",
    "    'param_learning_rate', 'param_n_estimators',\n",
    "    'mean_test_score', 'std_test_score', 'rank_test_score', 'mean_fit_time'\n",
    "]]\n",
    "df_rd_search_lgbmc = df_rd_search_lgbmc.sort_values('rank_test_score')\n",
    "df_rd_search_lgbmc"
   ]
  },
  {
   "cell_type": "markdown",
   "id": "830fbcd5-46cd-4523-9ff4-8e2616738f10",
   "metadata": {},
   "source": [
    "Observations:\n",
    "- From the search of 50 parameter combinations, **the best one results in a roc_auc of 0.725**, which is the same as the model with default parameters.\n",
    "- Given this, **we will proceed with the model using default parameters with balanced class weights**.\n"
   ]
  },
  {
   "cell_type": "markdown",
   "id": "fb51d998-8811-4bca-9dc0-743364f03bfe",
   "metadata": {},
   "source": [
    "<a id=function><a />\n",
    "# Define Preprocessing Function"
   ]
  },
  {
   "cell_type": "code",
   "execution_count": 57,
   "id": "24949674-db9d-42fd-b282-6f60ff4d5936",
   "metadata": {
    "execution": {
     "iopub.execute_input": "2024-05-17T22:17:19.683900Z",
     "iopub.status.busy": "2024-05-17T22:17:19.682900Z",
     "iopub.status.idle": "2024-05-17T22:17:19.703771Z",
     "shell.execute_reply": "2024-05-17T22:17:19.702499Z",
     "shell.execute_reply.started": "2024-05-17T22:17:19.683900Z"
    }
   },
   "outputs": [],
   "source": [
    "best25_list = [\n",
    "    'antigüedad_empleo_10+_years',\n",
    "    'antigüedad_empleo_2_years',\n",
    "    'antigüedad_empleo_3_years',\n",
    "    'dti',\n",
    "    'finalidad_debt_consolidation',\n",
    "    'finalidad_other',\n",
    "    'ingresos',\n",
    "    'ingresos_verificados_Not_Verified',\n",
    "    'ingresos_verificados_Source_Verified',\n",
    "    'ingresos_verificados_Verified',\n",
    "    'num_derogatorios',\n",
    "    'num_hipotecas',\n",
    "    'num_lineas_credito',\n",
    "    'porc_tarjetas_75p',\n",
    "    'porc_uso_revolving',\n",
    "    'principal',\n",
    "    'rating_A',\n",
    "    'rating_B',\n",
    "    'rating_C',\n",
    "    'rating_D',\n",
    "    'rating_E',\n",
    "    'rating_F-G',\n",
    "    'tipo_interes',\n",
    "    'vivienda_MORTGAGE',\n",
    "    'vivienda_RENT'\n",
    "]\n",
    "\n",
    "def impute_missing(df_train, X_test):\n",
    "    # Evitar sobreescribir variable.\n",
    "    df_train = df_train.copy()\n",
    "    X_test = X_test.copy()\n",
    "\n",
    "    # Eliminar registros del conjunto de entrenamiento.\n",
    "    mask_zero_notVerified = (df_train.ingresos == 0) & (df_train.ingresos_verificados == 'Not Verified')\n",
    "    df_train = df_train.loc[~mask_zero_notVerified] \n",
    "    \n",
    "    mask_dbt_neg = df_train.dti < 0\n",
    "    df_train = df_train[~mask_dbt_neg]    \n",
    "    \n",
    "    rare_cats = [\"ANY\", \"OTHER\", \"NONE\"]\n",
    "    mask_vivienda_rare = df_train.vivienda.isin(rare_cats)\n",
    "    df_train = df_train[~mask_vivienda_rare]\n",
    "\n",
    "    # Partición X_train / y_train.\n",
    "    y_train = df_train.default\n",
    "    X_train = df_train.drop(columns='default')\n",
    "\n",
    "    # Imputación por la moda.\n",
    "    vars_moda = [\"antigüedad_empleo\", \"num_hipotecas\", \"num_derogatorios\"]  \n",
    "    for var in vars_moda:\n",
    "        X_train[var].fillna(X_train[var].mode().iloc[0], inplace=True)\n",
    "        X_test[var].fillna(X_train[var].mode().iloc[0], inplace=True)\n",
    "\n",
    "    # Imputación por la mediana.\n",
    "    vars_mediana = [\"porc_uso_revolving\", \"dti\", \"num_lineas_credito\", \"porc_tarjetas_75p\"]\n",
    "    for var in vars_mediana:\n",
    "        X_train[var].fillna(X_train[var].median(), inplace=True)\n",
    "        X_test[var].fillna(X_train[var].median(), inplace=True)\n",
    "\n",
    "    return (X_train, y_train, X_test)\n",
    "    \n",
    "\n",
    "def get_derived_features(X):\n",
    "    # Evitar sobreescribir variable.\n",
    "    X = X.copy()\n",
    "\n",
    "    # Agrupar categorías infrecuentes.\n",
    "    X[\"rating\"].replace(\n",
    "        to_replace=[\"F\", \"G\"],\n",
    "        value=\"F-G\",\n",
    "        inplace=True\n",
    "    )\n",
    "    \n",
    "    X[\"finalidad\"].replace(\n",
    "        to_replace=[\"major_purchase\", \"medical\", \"small_business\", \"car\", \"moving\", \"vacation\", \"house\", \"wedding\", \"renewable_energy\", \"educational\"],\n",
    "        value=\"other\",\n",
    "        inplace=True\n",
    "    )\n",
    "    \n",
    "    # OHE.\n",
    "    X = pd.get_dummies(\n",
    "        data=X,\n",
    "        columns=['antigüedad_empleo', 'finalidad', 'ingresos_verificados', 'rating', 'vivienda'],\n",
    "        drop_first=False,\n",
    "        dtype=float\n",
    "    )\n",
    "\n",
    "    return X\n",
    "\n",
    "\n",
    "def preprocess_data(df_train, X_test, vars_final):\n",
    "    # Evitar sobreescribir.\n",
    "    df_train = df_train.copy()\n",
    "    X_test  = X_test.copy()\n",
    "\n",
    "    # Imputar nulos.\n",
    "    X_train, y_train, X_test = impute_missing(df_train, X_test)\n",
    "\n",
    "    # Feature engineering.\n",
    "    X_train = get_derived_features(X_train)\n",
    "    X_test = get_derived_features(X_test)\n",
    "\n",
    "    # Cambiar nombre de categorías acorde al output generado por LGBM.\n",
    "    for X in [X_train, X_test]:\n",
    "        X.rename(columns={\n",
    "            'num_cuotas_ 36 months': 'num_cuotas__36_months',\n",
    "            'antigüedad_empleo_10+ years': 'antigüedad_empleo_10+_years',\n",
    "            'antigüedad_empleo_2 years': 'antigüedad_empleo_2_years',\n",
    "            'antigüedad_empleo_3 years': 'antigüedad_empleo_3_years',\n",
    "            'ingresos_verificados_Not Verified': 'ingresos_verificados_Not_Verified',\n",
    "            'ingresos_verificados_Source Verified': 'ingresos_verificados_Source_Verified'\n",
    "        }, inplace=True)\n",
    "    \n",
    "    # Limitar a las variables finales.\n",
    "    X_train_prep = X_train[vars_final]\n",
    "    X_test_prep  = X_test[vars_final]\n",
    "\n",
    "    return (X_train_prep, y_train, X_test_prep)"
   ]
  },
  {
   "cell_type": "markdown",
   "id": "15e8c1d4-fd78-478b-b871-add458ee8c50",
   "metadata": {},
   "source": [
    "<a id=eval><a />\n",
    "# Performance Evaluation "
   ]
  },
  {
   "cell_type": "code",
   "execution_count": 58,
   "id": "632b71b9-2ccc-40ca-8f4b-d81996713051",
   "metadata": {
    "execution": {
     "iopub.execute_input": "2024-05-17T22:17:21.347176Z",
     "iopub.status.busy": "2024-05-17T22:17:21.347176Z",
     "iopub.status.idle": "2024-05-17T22:17:22.154003Z",
     "shell.execute_reply": "2024-05-17T22:17:22.152996Z",
     "shell.execute_reply.started": "2024-05-17T22:17:21.347176Z"
    }
   },
   "outputs": [
    {
     "name": "stdout",
     "output_type": "stream",
     "text": [
      "Preprocessed Training set: (159802, 25) (159802,)\n",
      "Preprocessed Test set    : (40000, 25) (40000,)\n"
     ]
    }
   ],
   "source": [
    "import pandas as pd\n",
    "import joblib\n",
    "\n",
    "# Load and preprocess validation set:\n",
    "X_test = pd.read_csv('../02_Data/Validation/X_test.csv')\n",
    "y_test = pd.read_csv('../02_Data/Validation/y_test.csv')\n",
    "y_test = y_test.default\n",
    "\n",
    "# Load training set (preprocessed):\n",
    "X_train  = pd.read_csv('../02_Data/Working/X_train.csv')\n",
    "y_train  = pd.read_csv('../02_Data/Working/y_train.csv')\n",
    "df_train = X_train.join(y_train)\n",
    "\n",
    "# Load final variables:\n",
    "vars_final = joblib.load('../06_Other/final_variables')\n",
    "\n",
    "X_train_prep, y_train, X_test_prep = preprocess_data(df_train, X_test, vars_final)\n",
    "\n",
    "print(\"Preprocessed Training set:\", X_train_prep.shape, y_train.shape)\n",
    "print(\"Preprocessed Test set    :\", X_test_prep.shape, y_test.shape)"
   ]
  },
  {
   "cell_type": "markdown",
   "id": "f5b5f741-08d5-4726-865f-6dda46479718",
   "metadata": {},
   "source": [
    "## With Class Imbalance"
   ]
  },
  {
   "cell_type": "code",
   "execution_count": 80,
   "id": "0e695762-558a-427a-a5b5-66707e58c6d9",
   "metadata": {
    "execution": {
     "iopub.execute_input": "2024-05-17T22:34:41.795021Z",
     "iopub.status.busy": "2024-05-17T22:34:41.795021Z",
     "iopub.status.idle": "2024-05-17T22:34:42.477982Z",
     "shell.execute_reply": "2024-05-17T22:34:42.477982Z",
     "shell.execute_reply.started": "2024-05-17T22:34:41.795021Z"
    }
   },
   "outputs": [
    {
     "name": "stdout",
     "output_type": "stream",
     "text": [
      "              precision    recall  f1-score   support\n",
      "\n",
      "           0      0.873     0.999     0.932     34881\n",
      "           1      0.560     0.005     0.011      5119\n",
      "\n",
      "    accuracy                          0.872     40000\n",
      "   macro avg      0.716     0.502     0.471     40000\n",
      "weighted avg      0.833     0.872     0.814     40000\n",
      "\n"
     ]
    },
    {
     "data": {
      "text/plain": [
       "<sklearn.metrics._plot.confusion_matrix.ConfusionMatrixDisplay at 0x145a425e510>"
      ]
     },
     "execution_count": 80,
     "metadata": {},
     "output_type": "execute_result"
    },
    {
     "data": {
      "image/png": "[encoded data removed]",
      "text/plain": [
       "<Figure size 640x480 with 2 Axes>"
      ]
     },
     "metadata": {},
     "output_type": "display_data"
    }
   ],
   "source": [
    "from sklearn.metrics import classification_report, ConfusionMatrixDisplay, roc_auc_score\n",
    "from lightgbm import LGBMClassifier\n",
    "\n",
    "lgbmc = LGBMClassifier(random_state=0, objective='binary', verbose=-1)\n",
    "lgbmc.fit(X_train_prep, y_train)\n",
    "\n",
    "y_pred = lgbmc.predict(X_test_prep)\n",
    "\n",
    "print(classification_report(y_true=y_test, y_pred=y_pred, digits=3))\n",
    "ConfusionMatrixDisplay.from_predictions(y_true=y_test, y_pred=y_pred)"
   ]
  },
  {
   "cell_type": "markdown",
   "id": "d78cff21-1fdd-472d-b255-8a3fc47b9005",
   "metadata": {},
   "source": [
    "## With Imbalance Techniques"
   ]
  },
  {
   "cell_type": "markdown",
   "id": "35dc6f45-8189-4502-836f-3d536a8b3eb3",
   "metadata": {},
   "source": [
    "### Class Weighting"
   ]
  },
  {
   "cell_type": "code",
   "execution_count": 104,
   "id": "138e078e-1fd0-45bf-8741-cd029f078623",
   "metadata": {
    "execution": {
     "iopub.execute_input": "2024-05-17T23:49:35.563922Z",
     "iopub.status.busy": "2024-05-17T23:49:35.562922Z",
     "iopub.status.idle": "2024-05-17T23:49:36.363232Z",
     "shell.execute_reply": "2024-05-17T23:49:36.363232Z",
     "shell.execute_reply.started": "2024-05-17T23:49:35.563922Z"
    }
   },
   "outputs": [
    {
     "name": "stdout",
     "output_type": "stream",
     "text": [
      "              precision    recall  f1-score   support\n",
      "\n",
      "           0      0.934     0.642     0.761     34881\n",
      "           1      0.220     0.691     0.334      5119\n",
      "\n",
      "    accuracy                          0.648     40000\n",
      "   macro avg      0.577     0.666     0.547     40000\n",
      "weighted avg      0.843     0.648     0.706     40000\n",
      "\n"
     ]
    },
    {
     "data": {
      "text/plain": [
       "<sklearn.metrics._plot.confusion_matrix.ConfusionMatrixDisplay at 0x145a0845bb0>"
      ]
     },
     "execution_count": 104,
     "metadata": {},
     "output_type": "execute_result"
    },
    {
     "data": {
      "image/png": "[encoded data removed]",
      "text/plain": [
       "<Figure size 640x480 with 2 Axes>"
      ]
     },
     "metadata": {},
     "output_type": "display_data"
    }
   ],
   "source": [
    "lgbmc_cw = LGBMClassifier(random_state=0, objective='binary', verbose=-1, class_weight='balanced')\n",
    "lgbmc_cw.fit(X_train_prep, y_train)\n",
    "\n",
    "y_pred = lgbmc_cw.predict(X_test_prep)\n",
    "\n",
    "print(classification_report(y_true=y_test, y_pred=y_pred, digits=3))\n",
    "ConfusionMatrixDisplay.from_predictions(y_true=y_test, y_pred=y_pred)"
   ]
  },
  {
   "cell_type": "markdown",
   "id": "68a9dd6a-6966-411e-bb76-f430137cdca0",
   "metadata": {},
   "source": [
    "Observations:\n",
    "- As we had seen in the previous results, **the resulting model leaves much to be desired in terms of its ability to correctly detect defaults (positive class)** with a recall close to 0%, although this metric can be **raised to 70% in the model by balancing the classes by changing the class weights** during training. This improvement has been achieved **at the expense of greatly sacrificing precision** from 56% to 22% **and the ability to detect customers who have not defaulted**, from a recall for the negative class close to 100% to 64%. All this indicates that it is not possible to discriminate well between the two classes with the features present; there is a significant overlap in the probability distributions of the two classes.\n",
    "\n",
    "- **The only notable aspect of the model would be its stability**, as the metrics are almost identical both during the model selection phase through cross-validation and in the evaluation phase with the validation set.\n"
   ]
  },
  {
   "cell_type": "code",
   "execution_count": 88,
   "id": "8b288509-e4ab-4586-8911-5f8f88df26fa",
   "metadata": {
    "execution": {
     "iopub.execute_input": "2024-05-17T22:40:46.585528Z",
     "iopub.status.busy": "2024-05-17T22:40:46.585528Z",
     "iopub.status.idle": "2024-05-17T22:40:47.570832Z",
     "shell.execute_reply": "2024-05-17T22:40:47.569827Z",
     "shell.execute_reply.started": "2024-05-17T22:40:46.585528Z"
    }
   },
   "outputs": [
    {
     "data": {
      "image/png": "[encoded data removed]",
      "text/plain": [
       "<Figure size 1000x800 with 2 Axes>"
      ]
     },
     "metadata": {},
     "output_type": "display_data"
    }
   ],
   "source": [
    "fig, ax = plt.subplots(nrows=2, ncols=1, figsize=(10,8))\n",
    "\n",
    "# Model without class weighting.\n",
    "my.binary_pred_kdeplots(\n",
    "    predictor=lgbmc,\n",
    "    X_test=X_test_prep,\n",
    "    y_test=y_test,\n",
    "    prob_thresh=0.5,\n",
    "    ax=ax[0]\n",
    ")\n",
    "\n",
    "# With class weighting.\n",
    "my.binary_pred_kdeplots(\n",
    "    predictor=lgbmc_cw,\n",
    "    X_test=X_test_prep,\n",
    "    y_test=y_test,\n",
    "    prob_thresh=0.5,\n",
    "    ax=ax[1]\n",
    ")\n",
    "\n",
    "plt.show()"
   ]
  },
  {
   "cell_type": "markdown",
   "id": "b4e39bf4-56ef-4574-81c5-4cc3c68dfe18",
   "metadata": {},
   "source": [
    "Observations:\n",
    "- Regarding the distribution of probability estimates of the model with default parameters and the other with balanced class weights, it is observed that **the distributions of the two classes are highly overlapping in both models, although in the model with balanced weights these distributions are more separated from each other**. We already knew that the model would have great difficulty in recognizing the 0s due to the small number of samples for that minority class and the available variables. Hence, the distribution for the 0s is more spread out.\n",
    "\n",
    "- In this particular case, **we are interested in prioritizing the identification of customers who are likely to default** rather than the confidence, which is also important, that they have already defaulted. However, **it is not advisable to decrease the probability threshold to increase sensitivity** (recall for the positive class) since the increase in false positives would drastically decrease precision. We will leave the threshold at 0.5.\n"
   ]
  },
  {
   "cell_type": "markdown",
   "id": "482e877b-7efc-4815-bf25-d9006ba11042",
   "metadata": {},
   "source": [
    "<a id=train><a />\n",
    "# Save Final Model trained on Full data "
   ]
  },
  {
   "cell_type": "code",
   "execution_count": 97,
   "id": "2aa19046-b7f3-4f34-8597-eb5937a76f23",
   "metadata": {
    "execution": {
     "iopub.execute_input": "2024-05-17T22:48:59.558503Z",
     "iopub.status.busy": "2024-05-17T22:48:59.557504Z",
     "iopub.status.idle": "2024-05-17T22:48:59.960362Z",
     "shell.execute_reply": "2024-05-17T22:48:59.960362Z",
     "shell.execute_reply.started": "2024-05-17T22:48:59.558503Z"
    }
   },
   "outputs": [
    {
     "data": {
      "text/plain": [
       "default\n",
       "0    0.872015\n",
       "1    0.127985\n",
       "Name: proportion, dtype: float64"
      ]
     },
     "execution_count": 97,
     "metadata": {},
     "output_type": "execute_result"
    }
   ],
   "source": [
    "# Let's train the final model one last time with all the data: 200,000!\n",
    "X_full = pd.read_csv('../02_Data/Original/prestamos.csv')\n",
    "\n",
    "# Crear la target en el conjunto original:\n",
    "class_neg = [\"Fully Paid\", \"Current\", \"In Grace Period\", \"Late (16-30 days)\", \"Does not meet the credit policy. Status:Fully Paid\"]\n",
    "class_pos = [\"Charged Off\", \"Late (31-120 days)\", \"Does not meet the credit policy. Status:Charged Off\", \"Default\"]\n",
    "X_full['default'] = np.where(X_full['estado'].isin(class_pos), 1, 0)\n",
    "\n",
    "X_full['default'].value_counts(dropna=False, normalize=True)"
   ]
  },
  {
   "cell_type": "code",
   "execution_count": 98,
   "id": "9c0d9cb3-d078-4cf8-a2db-8bb41babd1a5",
   "metadata": {
    "execution": {
     "iopub.execute_input": "2024-05-17T22:49:00.667411Z",
     "iopub.status.busy": "2024-05-17T22:49:00.667411Z",
     "iopub.status.idle": "2024-05-17T22:49:01.130343Z",
     "shell.execute_reply": "2024-05-17T22:49:01.130343Z",
     "shell.execute_reply.started": "2024-05-17T22:49:00.667411Z"
    }
   },
   "outputs": [
    {
     "data": {
      "text/plain": [
       "((199764, 25), (199764,))"
      ]
     },
     "execution_count": 98,
     "metadata": {},
     "output_type": "execute_result"
    }
   ],
   "source": [
    "X_train_full_prep, y_train_full, _ = preprocess_data(X_full, X_test, vars_final)\n",
    "\n",
    "X_train_full_prep.shape, y_train_full.shape"
   ]
  },
  {
   "cell_type": "code",
   "execution_count": 102,
   "id": "64acb1ed-f92d-42c8-88ef-2205805e9ccd",
   "metadata": {
    "execution": {
     "iopub.execute_input": "2024-05-17T22:50:48.681468Z",
     "iopub.status.busy": "2024-05-17T22:50:48.681468Z",
     "iopub.status.idle": "2024-05-17T22:50:49.330949Z",
     "shell.execute_reply": "2024-05-17T22:50:49.330949Z",
     "shell.execute_reply.started": "2024-05-17T22:50:48.681468Z"
    }
   },
   "outputs": [
    {
     "data": {
      "text/plain": [
       "['../04_Models/best_lgbmc_cw_trained_all_data']"
      ]
     },
     "execution_count": 102,
     "metadata": {},
     "output_type": "execute_result"
    }
   ],
   "source": [
    "lgbmc_cw.fit(X_train_full_prep, y_train_full)\n",
    "joblib.dump(value=best_lgbmc_cw, filename='../04_Models/best_lgbmc_cw_trained_all_data')"
   ]
  }
 ],
 "metadata": {
  "kernelspec": {
   "display_name": "Python 3 (ipykernel)",
   "language": "python",
   "name": "python3"
  },
  "language_info": {
   "codemirror_mode": {
    "name": "ipython",
    "version": 3
   },
   "file_extension": ".py",
   "mimetype": "text/x-python",
   "name": "python",
   "nbconvert_exporter": "python",
   "pygments_lexer": "ipython3",
   "version": "3.10.13"
  }
 },
 "nbformat": 4,
 "nbformat_minor": 5
}
